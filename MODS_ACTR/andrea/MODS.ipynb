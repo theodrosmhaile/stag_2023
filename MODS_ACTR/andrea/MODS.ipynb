{
 "cells": [
  {
   "cell_type": "code",
   "execution_count": 1,
   "id": "d6a74fe9-e824-4f74-bbce-a065f3ea97b7",
   "metadata": {
    "tags": []
   },
   "outputs": [
    {
     "name": "stdout",
     "output_type": "stream",
     "text": [
      "ACT-R connection has been started.\n",
      "#|Warning: Creating chunk NO with no slots |#\n",
      "#|Warning: Creating chunk SPACE with no slots |#\n",
      "#|Warning: Creating chunk YES with no slots |#\n",
      "#|Warning: Creating chunk LETTER with no slots |#\n",
      "#|Warning: Production ENCODE-WM uses previously undefined slots (NEXT). |#\n",
      "#|Warning: Production ENCODE-WM uses previously undefined slots (CLEAR_WM). |#\n",
      "#|Warning: Production FREE-WM uses previously undefined slots (NDIGITS). |#\n",
      "#|Warning: Creating chunk WM with no slots |#\n",
      "#|Warning: Productions request a value for the NEXT slot in a request to the IMAGINAL buffer, but that slot is not used in other productions. |#\n",
      "#|Warning: Productions modify the NDIGITS slot in the GOAL buffer, but that slot is not used in other productions. |#\n",
      "#|Warning: Productions modify the REHEARSING slot in the GOAL buffer, but that slot is not used in other productions. |#\n"
     ]
    }
   ],
   "source": [
    "import MODS_interface as mods\n",
    "import actr"
   ]
  },
  {
   "cell_type": "code",
   "execution_count": 2,
   "id": "55b56ba1-09fa-405a-8076-25a4ef859cd7",
   "metadata": {
    "tags": []
   },
   "outputs": [
    {
     "name": "stdout",
     "output_type": "stream",
     "text": [
      "#|Warning: Productions request a value for the NEXT slot in a request to the IMAGINAL buffer, but that slot is not used in other productions. |#\n"
     ]
    },
    {
     "data": {
      "text/plain": [
       "True"
      ]
     },
     "execution_count": 2,
     "metadata": {},
     "output_type": "execute_result"
    }
   ],
   "source": [
    "actr.load_act_r_code(\"Mods_a_la_Andy_Rehearse.lisp\")\n"
   ]
  },
  {
   "cell_type": "code",
   "execution_count": 3,
   "id": "00ede2c1-ba09-467d-a565-761398260a45",
   "metadata": {
    "tags": []
   },
   "outputs": [
    {
     "name": "stdout",
     "output_type": "stream",
     "text": [
      "     0.000   GOAL                   SET-BUFFER-CHUNK GOAL ARTICULATE NIL\n",
      "Presented item:  '4' position:  1\n",
      "#|Warning: Creating chunk VISUAL with no slots |#\n",
      "     0.000   PROCEDURAL             CONFLICT-RESOLUTION\n",
      "     0.180   PROCEDURAL             PRODUCTION-FIRED READ-ALOUD\n",
      "     0.180   GOAL                   MOD-BUFFER-CHUNK GOAL\n",
      "     0.180   PROCEDURAL             CLEAR-BUFFER VOCAL\n",
      "     0.180   SPEECH                 SUBVOCALIZE TEXT 4\n",
      "     0.180   PROCEDURAL             CONFLICT-RESOLUTION\n",
      "     0.360   PROCEDURAL             PRODUCTION-FIRED ENCODE-WM\n",
      "NDIGITS 1\n",
      "     0.360   GOAL                   MOD-BUFFER-CHUNK GOAL\n",
      "     0.360   PROCEDURAL             CLEAR-BUFFER VISUAL\n",
      "     0.360   PROCEDURAL             CLEAR-BUFFER IMAGINAL\n",
      "     0.360   PROCEDURAL             CONFLICT-RESOLUTION\n",
      "     0.380   AUDIO                  new-sound\n",
      "     0.380   PROCEDURAL             CONFLICT-RESOLUTION\n",
      "     0.530   PROCEDURAL             CONFLICT-RESOLUTION\n",
      "     0.560   IMAGINAL               SET-BUFFER-CHUNK-FROM-SPEC IMAGINAL\n",
      "     0.560   PROCEDURAL             CONFLICT-RESOLUTION\n",
      "     0.680   AUDIO                  SET-BUFFER-CHUNK AURAL-LOCATION AUDIO-EVENT0 NIL\n",
      "     0.740   PROCEDURAL             PRODUCTION-FIRED FREE-WM\n",
      "     0.740   GOAL                   MOD-BUFFER-CHUNK GOAL\n",
      "     0.740   PROCEDURAL             CLEAR-BUFFER IMAGINAL\n",
      "     0.740   PROCEDURAL             CONFLICT-RESOLUTION\n",
      "Presented item:  'C' position:  nil\n",
      "     0.920   PROCEDURAL             PRODUCTION-FIRED REHEARSE\n",
      "RETRIEVING POSITION 1 FOR NDIGITS 1\n",
      "     0.920   PROCEDURAL             CLEAR-BUFFER RETRIEVAL\n",
      "     0.920   DECLARATIVE            start-retrieval\n",
      "     0.920   PROCEDURAL             CONFLICT-RESOLUTION\n",
      "     1.000   ------                 Stopped because time limit reached\n"
     ]
    }
   ],
   "source": [
    "mods.model_loop()"
   ]
  },
  {
   "cell_type": "code",
   "execution_count": 4,
   "id": "8519a0b4-60b0-4259-8618-71f042f1e7eb",
   "metadata": {
    "tags": []
   },
   "outputs": [
    {
     "name": "stdout",
     "output_type": "stream",
     "text": [
      "     1.100   PROCEDURAL             PRODUCTION-FIRED READ-NEXT\n",
      "     1.100   GOAL                   MOD-BUFFER-CHUNK GOAL\n",
      "     1.100   PROCEDURAL             CLEAR-BUFFER VISUAL\n",
      "     1.100   PROCEDURAL             CONFLICT-RESOLUTION\n",
      "     1.690   DECLARATIVE            RETRIEVED-CHUNK IMAGINAL-CHUNK0-0\n",
      "     1.690   DECLARATIVE            SET-BUFFER-CHUNK RETRIEVAL IMAGINAL-CHUNK0-0\n",
      "     1.690   PROCEDURAL             CONFLICT-RESOLUTION\n",
      "Presented item:  'A' position:  nil\n",
      "     1.800   PROCEDURAL             CONFLICT-RESOLUTION\n",
      "     1.980   PROCEDURAL             PRODUCTION-FIRED READ-ALOUD\n",
      "     1.980   GOAL                   MOD-BUFFER-CHUNK GOAL\n",
      "     1.980   PROCEDURAL             CLEAR-BUFFER VOCAL\n",
      "     1.980   SPEECH                 SUBVOCALIZE TEXT A\n",
      "     1.980   PROCEDURAL             CONFLICT-RESOLUTION\n",
      "     2.130   AUDIO                  new-sound\n",
      "     2.160   PROCEDURAL             PRODUCTION-FIRED RESET-REHEARSE\n",
      "     2.160   GOAL                   MOD-BUFFER-CHUNK GOAL\n",
      "     2.160   PROCEDURAL             CLEAR-BUFFER RETRIEVAL\n",
      "     2.160   PROCEDURAL             CONFLICT-RESOLUTION\n",
      "     2.340   PROCEDURAL             PRODUCTION-FIRED REHEARSE\n",
      "RETRIEVING POSITION 1 FOR NDIGITS 1\n",
      "     2.340   PROCEDURAL             CLEAR-BUFFER RETRIEVAL\n",
      "     2.340   DECLARATIVE            start-retrieval\n",
      "     2.340   PROCEDURAL             CONFLICT-RESOLUTION\n",
      "     2.520   PROCEDURAL             PRODUCTION-FIRED READ-NEXT\n",
      "     2.520   GOAL                   MOD-BUFFER-CHUNK GOAL\n",
      "     2.520   PROCEDURAL             CLEAR-BUFFER VISUAL\n",
      "     2.520   PROCEDURAL             CONFLICT-RESOLUTION\n",
      "     2.646   DECLARATIVE            RETRIEVED-CHUNK IMAGINAL-CHUNK0-0\n",
      "     2.646   DECLARATIVE            SET-BUFFER-CHUNK RETRIEVAL IMAGINAL-CHUNK0-0\n",
      "     2.646   PROCEDURAL             CONFLICT-RESOLUTION\n",
      "Presented item:  '1' position:  2\n",
      "     2.700   PROCEDURAL             CONFLICT-RESOLUTION\n",
      "     2.880   PROCEDURAL             PRODUCTION-FIRED READ-ALOUD\n",
      "     2.880   GOAL                   MOD-BUFFER-CHUNK GOAL\n",
      "     2.880   PROCEDURAL             CLEAR-BUFFER VOCAL\n",
      "     2.880   SPEECH                 SUBVOCALIZE TEXT 1\n",
      "     2.880   PROCEDURAL             CONFLICT-RESOLUTION\n",
      "     3.030   AUDIO                  new-sound\n",
      "     3.060   PROCEDURAL             PRODUCTION-FIRED RESET-REHEARSE\n",
      "     3.060   GOAL                   MOD-BUFFER-CHUNK GOAL\n",
      "     3.060   PROCEDURAL             CLEAR-BUFFER RETRIEVAL\n",
      "     3.060   PROCEDURAL             CONFLICT-RESOLUTION\n",
      "     3.240   PROCEDURAL             PRODUCTION-FIRED REHEARSE\n",
      "RETRIEVING POSITION 1 FOR NDIGITS 1\n",
      "     3.240   PROCEDURAL             CLEAR-BUFFER RETRIEVAL\n",
      "     3.240   DECLARATIVE            start-retrieval\n",
      "     3.240   PROCEDURAL             CONFLICT-RESOLUTION\n",
      "     3.420   PROCEDURAL             PRODUCTION-FIRED ENCODE-WM\n",
      "NDIGITS 2\n",
      "     3.420   GOAL                   MOD-BUFFER-CHUNK GOAL\n",
      "     3.420   PROCEDURAL             CLEAR-BUFFER VISUAL\n",
      "     3.420   PROCEDURAL             CLEAR-BUFFER IMAGINAL\n",
      "     3.420   PROCEDURAL             CONFLICT-RESOLUTION\n",
      "     3.498   DECLARATIVE            RETRIEVED-CHUNK IMAGINAL-CHUNK0-0\n",
      "     3.498   DECLARATIVE            SET-BUFFER-CHUNK RETRIEVAL IMAGINAL-CHUNK0-0\n",
      "     3.498   PROCEDURAL             CONFLICT-RESOLUTION\n",
      "Presented item:  'H' position:  nil\n",
      "     3.620   IMAGINAL               SET-BUFFER-CHUNK-FROM-SPEC IMAGINAL\n",
      "     3.678   PROCEDURAL             PRODUCTION-FIRED RESET-REHEARSE\n",
      "     3.678   GOAL                   MOD-BUFFER-CHUNK GOAL\n",
      "     3.678   PROCEDURAL             CLEAR-BUFFER RETRIEVAL\n",
      "     3.678   PROCEDURAL             CONFLICT-RESOLUTION\n",
      "     3.858   PROCEDURAL             PRODUCTION-FIRED REHEARSE\n",
      "RETRIEVING POSITION 1 FOR NDIGITS 1\n",
      "     3.858   PROCEDURAL             CLEAR-BUFFER RETRIEVAL\n",
      "     3.858   DECLARATIVE            start-retrieval\n",
      "     3.858   PROCEDURAL             CONFLICT-RESOLUTION\n",
      "     4.038   PROCEDURAL             PRODUCTION-FIRED FREE-WM\n",
      "     4.038   GOAL                   MOD-BUFFER-CHUNK GOAL\n",
      "     4.038   PROCEDURAL             CLEAR-BUFFER IMAGINAL\n",
      "     4.038   PROCEDURAL             CONFLICT-RESOLUTION\n",
      "     4.145   DECLARATIVE            RETRIEVED-CHUNK IMAGINAL-CHUNK0-0\n",
      "     4.145   DECLARATIVE            SET-BUFFER-CHUNK RETRIEVAL IMAGINAL-CHUNK0-0\n",
      "     4.218   PROCEDURAL             PRODUCTION-FIRED READ-NEXT\n",
      "     4.218   GOAL                   MOD-BUFFER-CHUNK GOAL\n",
      "     4.218   PROCEDURAL             CLEAR-BUFFER VISUAL\n",
      "     4.218   PROCEDURAL             CONFLICT-RESOLUTION\n",
      "     4.398   PROCEDURAL             PRODUCTION-FIRED CONTINUE-REHEARSE\n",
      "SET NEXT RETRIEVAL TO 2 FOR NDIGITS 2\n",
      "     4.398   PROCEDURAL             CLEAR-BUFFER RETRIEVAL\n",
      "     4.398   PROCEDURAL             CONFLICT-RESOLUTION\n",
      "Presented item:  'T' position:  nil\n",
      "     4.578   PROCEDURAL             PRODUCTION-FIRED REHEARSE\n",
      "RETRIEVING POSITION 2 FOR NDIGITS 2\n",
      "     4.578   PROCEDURAL             CLEAR-BUFFER RETRIEVAL\n",
      "     4.578   DECLARATIVE            start-retrieval\n",
      "     4.578   PROCEDURAL             CONFLICT-RESOLUTION\n",
      "     4.758   PROCEDURAL             PRODUCTION-FIRED READ-ALOUD\n",
      "     4.758   GOAL                   MOD-BUFFER-CHUNK GOAL\n",
      "     4.758   PROCEDURAL             CLEAR-BUFFER VOCAL\n",
      "     4.758   SPEECH                 SUBVOCALIZE TEXT T\n",
      "     4.758   PROCEDURAL             CONFLICT-RESOLUTION\n",
      "     4.870   DECLARATIVE            RETRIEVED-CHUNK IMAGINAL-CHUNK0-1\n",
      "     4.870   DECLARATIVE            SET-BUFFER-CHUNK RETRIEVAL IMAGINAL-CHUNK0-1\n",
      "     4.908   AUDIO                  new-sound\n",
      "     4.938   PROCEDURAL             PRODUCTION-FIRED READ-NEXT\n",
      "     4.938   GOAL                   MOD-BUFFER-CHUNK GOAL\n",
      "     4.938   PROCEDURAL             CLEAR-BUFFER VISUAL\n",
      "     4.938   PROCEDURAL             CONFLICT-RESOLUTION\n",
      "     5.058   PROCEDURAL             CONFLICT-RESOLUTION\n",
      "     5.208   PROCEDURAL             CONFLICT-RESOLUTION\n",
      "Presented item:  '7' position:  3\n",
      "     5.400   PROCEDURAL             CONFLICT-RESOLUTION\n",
      "     5.580   PROCEDURAL             PRODUCTION-FIRED READ-ALOUD\n",
      "     5.580   GOAL                   MOD-BUFFER-CHUNK GOAL\n",
      "     5.580   PROCEDURAL             CLEAR-BUFFER VOCAL\n",
      "     5.580   SPEECH                 SUBVOCALIZE TEXT 7\n",
      "     5.580   PROCEDURAL             CONFLICT-RESOLUTION\n",
      "     5.730   AUDIO                  new-sound\n",
      "     5.760   PROCEDURAL             PRODUCTION-FIRED RESET-REHEARSE\n",
      "     5.760   GOAL                   MOD-BUFFER-CHUNK GOAL\n",
      "     5.760   PROCEDURAL             CLEAR-BUFFER RETRIEVAL\n",
      "     5.760   PROCEDURAL             CONFLICT-RESOLUTION\n",
      "     5.940   PROCEDURAL             PRODUCTION-FIRED REHEARSE\n",
      "RETRIEVING POSITION 1 FOR NDIGITS 2\n",
      "     5.940   PROCEDURAL             CLEAR-BUFFER RETRIEVAL\n",
      "     5.940   DECLARATIVE            start-retrieval\n",
      "     5.940   PROCEDURAL             CONFLICT-RESOLUTION\n",
      "     6.120   PROCEDURAL             PRODUCTION-FIRED ENCODE-WM\n",
      "NDIGITS 3\n",
      "     6.120   GOAL                   MOD-BUFFER-CHUNK GOAL\n",
      "     6.120   PROCEDURAL             CLEAR-BUFFER VISUAL\n",
      "     6.120   PROCEDURAL             CLEAR-BUFFER IMAGINAL\n",
      "     6.120   PROCEDURAL             CONFLICT-RESOLUTION\n",
      "     6.163   DECLARATIVE            RETRIEVED-CHUNK IMAGINAL-CHUNK0-0\n",
      "     6.163   DECLARATIVE            SET-BUFFER-CHUNK RETRIEVAL IMAGINAL-CHUNK0-0\n",
      "     6.163   PROCEDURAL             CONFLICT-RESOLUTION\n",
      "Presented item:  'space1' position:  1\n",
      "encountered space\n",
      "     6.320   IMAGINAL               SET-BUFFER-CHUNK-FROM-SPEC IMAGINAL\n",
      "     6.343   PROCEDURAL             PRODUCTION-FIRED CONTINUE-REHEARSE\n",
      "SET NEXT RETRIEVAL TO 2 FOR NDIGITS 2\n",
      "     6.343   PROCEDURAL             CLEAR-BUFFER RETRIEVAL\n",
      "     6.343   PROCEDURAL             CONFLICT-RESOLUTION\n",
      "     6.523   PROCEDURAL             PRODUCTION-FIRED REHEARSE\n",
      "RETRIEVING POSITION 2 FOR NDIGITS 2\n",
      "     6.523   PROCEDURAL             CLEAR-BUFFER RETRIEVAL\n",
      "     6.523   DECLARATIVE            start-retrieval\n",
      "     6.523   PROCEDURAL             CONFLICT-RESOLUTION\n",
      "     6.703   PROCEDURAL             PRODUCTION-FIRED PARSE-SCREEN\n",
      "     6.703   GOAL                   MOD-BUFFER-CHUNK GOAL\n",
      "     6.703   PROCEDURAL             CONFLICT-RESOLUTION\n",
      "     6.883   PROCEDURAL             PRODUCTION-FIRED FREE-WM\n",
      "     6.883   GOAL                   MOD-BUFFER-CHUNK GOAL\n",
      "     6.883   PROCEDURAL             CLEAR-BUFFER IMAGINAL\n",
      "     6.883   PROCEDURAL             CONFLICT-RESOLUTION\n",
      "     6.920   DECLARATIVE            RETRIEVED-CHUNK IMAGINAL-CHUNK0-1\n",
      "     6.920   DECLARATIVE            SET-BUFFER-CHUNK RETRIEVAL IMAGINAL-CHUNK0-1\n",
      "     6.920   PROCEDURAL             CONFLICT-RESOLUTION\n",
      "     7.100   PROCEDURAL             PRODUCTION-FIRED CHECK-MEMORY\n",
      "     7.100   PROCEDURAL             CLEAR-BUFFER RETRIEVAL\n",
      "     7.100   DECLARATIVE            start-retrieval\n",
      "     7.100   PROCEDURAL             CONFLICT-RESOLUTION\n",
      "     7.264   DECLARATIVE            RETRIEVED-CHUNK IMAGINAL-CHUNK0-0\n",
      "     7.264   DECLARATIVE            SET-BUFFER-CHUNK RETRIEVAL IMAGINAL-CHUNK0-0\n",
      "     7.264   PROCEDURAL             CONFLICT-RESOLUTION\n",
      "     7.444   PROCEDURAL             PRODUCTION-FIRED MAKE-RESPONSE-S1\n",
      "     7.444   GOAL                   MOD-BUFFER-CHUNK GOAL\n",
      "     7.444   PROCEDURAL             CLEAR-BUFFER VISUAL\n",
      "     7.444   PROCEDURAL             CLEAR-BUFFER RETRIEVAL\n",
      "     7.444   PROCEDURAL             CLEAR-BUFFER MANUAL\n",
      "     7.444   MOTOR                  PRESS-KEY KEY 4\n",
      "     7.444   PROCEDURAL             CONFLICT-RESOLUTION\n",
      "     7.624   PROCEDURAL             PRODUCTION-FIRED REHEARSE\n",
      "RETRIEVING POSITION 1 FOR NDIGITS 3\n",
      "     7.624   PROCEDURAL             CLEAR-BUFFER RETRIEVAL\n",
      "     7.624   DECLARATIVE            start-retrieval\n",
      "     7.624   PROCEDURAL             CONFLICT-RESOLUTION\n",
      "     7.694   PROCEDURAL             CONFLICT-RESOLUTION\n",
      "     7.744   PROCEDURAL             CONFLICT-RESOLUTION\n",
      "Get Response ran\n",
      "#|Warning: Error while calling \"get_response\" as a monitor for \"output-key\": Error (<class 'IndexError'>, IndexError('list assignment index out of range'), <traceback object at 0x7fe0e0c3c200>) while evaluating a command in Python for command: get_response, model: MODS_ACTR, parameters: ['MODS_ACTR', '4'] |#\n",
      "Presented item:  space2 position:  2\n",
      "#|Warning: Creating chunk SPACE2 with no slots |#\n",
      "encountered space\n",
      "     7.844   PROCEDURAL             CONFLICT-RESOLUTION\n",
      "     7.878   DECLARATIVE            RETRIEVED-CHUNK IMAGINAL-CHUNK0-0\n",
      "     7.878   DECLARATIVE            SET-BUFFER-CHUNK RETRIEVAL IMAGINAL-CHUNK0-0\n",
      "     8.024   PROCEDURAL             PRODUCTION-FIRED PARSE-SCREEN\n",
      "     8.024   GOAL                   MOD-BUFFER-CHUNK GOAL\n",
      "     8.024   PROCEDURAL             CONFLICT-RESOLUTION\n",
      "     8.204   PROCEDURAL             PRODUCTION-FIRED CHECK-MEMORY\n",
      "     8.204   PROCEDURAL             CLEAR-BUFFER RETRIEVAL\n",
      "     8.204   DECLARATIVE            start-retrieval\n",
      "     8.204   PROCEDURAL             CONFLICT-RESOLUTION\n",
      "     8.467   DECLARATIVE            RETRIEVED-CHUNK IMAGINAL-CHUNK0-1\n",
      "     8.467   DECLARATIVE            SET-BUFFER-CHUNK RETRIEVAL IMAGINAL-CHUNK0-1\n",
      "     8.467   PROCEDURAL             CONFLICT-RESOLUTION\n",
      "     8.647   PROCEDURAL             PRODUCTION-FIRED MAKE-RESPONSE-S2\n",
      "     8.647   GOAL                   MOD-BUFFER-CHUNK GOAL\n",
      "     8.647   PROCEDURAL             CLEAR-BUFFER VISUAL\n",
      "     8.647   PROCEDURAL             CLEAR-BUFFER RETRIEVAL\n",
      "     8.647   PROCEDURAL             CLEAR-BUFFER MANUAL\n",
      "     8.647   MOTOR                  PRESS-KEY KEY 1\n",
      "     8.647   PROCEDURAL             CONFLICT-RESOLUTION\n",
      "     8.827   PROCEDURAL             PRODUCTION-FIRED REHEARSE\n",
      "RETRIEVING POSITION 1 FOR NDIGITS 3\n",
      "     8.827   PROCEDURAL             CLEAR-BUFFER RETRIEVAL\n",
      "     8.827   DECLARATIVE            start-retrieval\n",
      "     8.827   PROCEDURAL             CONFLICT-RESOLUTION\n",
      "     8.847   PROCEDURAL             CONFLICT-RESOLUTION\n",
      "Get Response ran\n",
      "#|Warning: Error while calling \"get_response\" as a monitor for \"output-key\": Error (<class 'IndexError'>, IndexError('list assignment index out of range'), <traceback object at 0x7fe0e03c0500>) while evaluating a command in Python for command: get_response, model: MODS_ACTR, parameters: ['MODS_ACTR', '1'] |#\n",
      "Presented item:  space3 position:  3\n",
      "#|Warning: Creating chunk SPACE3 with no slots |#\n",
      "encountered space\n",
      "     8.947   PROCEDURAL             CONFLICT-RESOLUTION\n",
      "     9.012   DECLARATIVE            RETRIEVED-CHUNK IMAGINAL-CHUNK0-0\n",
      "     9.012   DECLARATIVE            SET-BUFFER-CHUNK RETRIEVAL IMAGINAL-CHUNK0-0\n",
      "     9.127   PROCEDURAL             PRODUCTION-FIRED PARSE-SCREEN\n",
      "     9.127   GOAL                   MOD-BUFFER-CHUNK GOAL\n",
      "     9.127   PROCEDURAL             CONFLICT-RESOLUTION\n",
      "     9.307   PROCEDURAL             PRODUCTION-FIRED CHECK-MEMORY\n",
      "     9.307   PROCEDURAL             CLEAR-BUFFER RETRIEVAL\n",
      "     9.307   DECLARATIVE            start-retrieval\n",
      "     9.307   PROCEDURAL             CONFLICT-RESOLUTION\n",
      "     9.959   DECLARATIVE            RETRIEVED-CHUNK IMAGINAL-CHUNK0-2\n",
      "     9.959   DECLARATIVE            SET-BUFFER-CHUNK RETRIEVAL IMAGINAL-CHUNK0-2\n",
      "     9.959   PROCEDURAL             CONFLICT-RESOLUTION\n",
      "    10.139   PROCEDURAL             PRODUCTION-FIRED MAKE-RESPONSE-S3\n",
      "    10.139   GOAL                   MOD-BUFFER-CHUNK GOAL\n",
      "    10.139   PROCEDURAL             CLEAR-BUFFER VISUAL\n",
      "    10.139   PROCEDURAL             CLEAR-BUFFER RETRIEVAL\n",
      "    10.139   PROCEDURAL             CLEAR-BUFFER MANUAL\n",
      "    10.139   MOTOR                  PRESS-KEY KEY 7\n",
      "    10.139   PROCEDURAL             CONFLICT-RESOLUTION\n",
      "    10.319   PROCEDURAL             PRODUCTION-FIRED REHEARSE\n",
      "RETRIEVING POSITION 1 FOR NDIGITS 3\n",
      "    10.319   PROCEDURAL             CLEAR-BUFFER RETRIEVAL\n",
      "    10.319   DECLARATIVE            start-retrieval\n",
      "    10.319   PROCEDURAL             CONFLICT-RESOLUTION\n",
      "    10.339   PROCEDURAL             CONFLICT-RESOLUTION\n",
      "    10.389   PROCEDURAL             CONFLICT-RESOLUTION\n",
      "    10.463   DECLARATIVE            RETRIEVED-CHUNK IMAGINAL-CHUNK0-0\n",
      "    10.463   DECLARATIVE            SET-BUFFER-CHUNK RETRIEVAL IMAGINAL-CHUNK0-0\n",
      "    10.463   PROCEDURAL             CONFLICT-RESOLUTION\n",
      "Get Response ran\n",
      "#|Warning: Error while calling \"get_response\" as a monitor for \"output-key\": Error (<class 'IndexError'>, IndexError('list assignment index out of range'), <traceback object at 0x7fe0e03c0440>) while evaluating a command in Python for command: get_response, model: MODS_ACTR, parameters: ['MODS_ACTR', '7'] |#\n",
      "#|Warning: Error \"Error (<class 'IndexError'>, IndexError('list index out of range'), <traceback object at 0x7fe0e03c0ac0>) while evaluating a command in Python for command: present_stim, model: MODS_ACTR, parameters: []\" while attempting to evaluate the form (\"present_stim\" NIL}) |#\n",
      "    10.643   PROCEDURAL             PRODUCTION-FIRED CONTINUE-REHEARSE\n",
      "SET NEXT RETRIEVAL TO 2 FOR NDIGITS 3\n",
      "    10.643   PROCEDURAL             CLEAR-BUFFER RETRIEVAL\n",
      "    10.643   PROCEDURAL             CONFLICT-RESOLUTION\n",
      "    10.823   PROCEDURAL             PRODUCTION-FIRED REHEARSE\n",
      "RETRIEVING POSITION 2 FOR NDIGITS 3\n",
      "    10.823   PROCEDURAL             CLEAR-BUFFER RETRIEVAL\n",
      "    10.823   DECLARATIVE            start-retrieval\n",
      "    10.823   PROCEDURAL             CONFLICT-RESOLUTION\n",
      "    11.237   DECLARATIVE            RETRIEVED-CHUNK IMAGINAL-CHUNK0-1\n",
      "    11.237   DECLARATIVE            SET-BUFFER-CHUNK RETRIEVAL IMAGINAL-CHUNK0-1\n",
      "    11.237   PROCEDURAL             CONFLICT-RESOLUTION\n",
      "    11.237   ------                 Stopped because event limit reached\n"
     ]
    },
    {
     "data": {
      "text/plain": [
       "[10.237, 500, None]"
      ]
     },
     "execution_count": 4,
     "metadata": {},
     "output_type": "execute_result"
    }
   ],
   "source": [
    "actr.run_n_events(500)"
   ]
  },
  {
   "cell_type": "code",
   "execution_count": 7,
   "id": "876c6760-7338-40ce-9d84-0908d0d09159",
   "metadata": {
    "tags": []
   },
   "outputs": [
    {
     "name": "stdout",
     "output_type": "stream",
     "text": [
      "\n",
      "Production READ-NEXT does NOT match.\n",
      "(P READ-NEXT\n",
      "   =GOAL>\n",
      "       READ YES\n",
      "       RESPOND NO\n",
      "   ?VISUAL>\n",
      "    -  BUFFER EMPTY\n",
      "   =VISUAL>\n",
      "       TYPE LETTER\n",
      " ==>\n",
      "   *GOAL>\n",
      "       READ NO\n",
      ")\n",
      "It fails because:\n",
      "The TYPE slot of the chunk in the VISUAL buffer does not have the value LETTER.\n"
     ]
    }
   ],
   "source": [
    "actr.whynot(\"read-next\")"
   ]
  },
  {
   "cell_type": "code",
   "execution_count": 9,
   "id": "55481c5e-9142-4911-ad21-f77da6bbc446",
   "metadata": {
    "tags": []
   },
   "outputs": [
    {
     "name": "stdout",
     "output_type": "stream",
     "text": [
      "VISUAL: VISUAL-CHUNK0 [STIMULUS7]\n",
      "VISUAL-CHUNK0\n",
      "   KIND  VISUAL\n",
      "   ITEM  \"space1\"\n",
      "   TYPE  SPACE\n",
      "   POSITION  1\n"
     ]
    },
    {
     "data": {
      "text/plain": [
       "['VISUAL-CHUNK0']"
      ]
     },
     "execution_count": 9,
     "metadata": {},
     "output_type": "execute_result"
    }
   ],
   "source": []
  }
 ],
 "metadata": {
  "kernelspec": {
   "display_name": "Python 3 (ipykernel)",
   "language": "python",
   "name": "python3"
  },
  "language_info": {
   "codemirror_mode": {
    "name": "ipython",
    "version": 3
   },
   "file_extension": ".py",
   "mimetype": "text/x-python",
   "name": "python",
   "nbconvert_exporter": "python",
   "pygments_lexer": "ipython3",
   "version": "3.9.17"
  }
 },
 "nbformat": 4,
 "nbformat_minor": 5
}
