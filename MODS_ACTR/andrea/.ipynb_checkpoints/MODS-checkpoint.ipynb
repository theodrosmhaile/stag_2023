{
 "cells": [
  {
   "cell_type": "markdown",
   "id": "750ff0de-1e36-4713-a2a4-806491ee344c",
   "metadata": {},
   "source": [
    "**To run a simulation:** run function `md.simulation(nSims, experiment)` It will return accuracy for specified span, across simulations. \n",
    "\n",
    "**To test the code:**  set `debug = True` and use `md.model_loop()`\n",
    "*Note:* Rehearse is loaded in the interface code - simply comment out that line to try code without rehearsal. "
   ]
  },
  {
   "cell_type": "code",
   "execution_count": 1,
   "id": "d6a74fe9-e824-4f74-bbce-a065f3ea97b7",
   "metadata": {
    "tags": []
   },
   "outputs": [
    {
     "name": "stdout",
     "output_type": "stream",
     "text": [
      "ACT-R connection has been started.\n"
     ]
    }
   ],
   "source": [
    "import MODS_interface as md\n",
    "import actr\n",
    "import pandas as pd\n",
    "import numpy as np\n",
    "import random as rand"
   ]
  },
  {
   "cell_type": "code",
   "execution_count": null,
   "id": "8519a0b4-60b0-4259-8618-71f042f1e7eb",
   "metadata": {
    "tags": []
   },
   "outputs": [],
   "source": [
    "#actr.run_n_events(500)"
   ]
  },
  {
   "cell_type": "code",
   "execution_count": null,
   "id": "2f4d8b67-a1e6-40f1-b81e-3ddb0a3dd6bc",
   "metadata": {
    "tags": []
   },
   "outputs": [],
   "source": [
    "md.model_loop()"
   ]
  },
  {
   "cell_type": "code",
   "execution_count": null,
   "id": "876c6760-7338-40ce-9d84-0908d0d09159",
   "metadata": {
    "tags": []
   },
   "outputs": [],
   "source": [
    "actr.run(5)\n",
    "#actr.whynot(\"read-next\")"
   ]
  },
  {
   "cell_type": "markdown",
   "id": "dea465ea-d7f9-4c02-ac94-7ea1c0c388ee",
   "metadata": {},
   "source": [
    "## Experiment"
   ]
  },
  {
   "cell_type": "code",
   "execution_count": 2,
   "id": "a4caf7a1-80cc-4dd1-8785-76c13feb229e",
   "metadata": {},
   "outputs": [],
   "source": [
    "stims = {'span3' : {'span_size': 3,\n",
    "                  'corr_responses': ['4', '1', '7']}, \n",
    "         'span4' : {'span_size':4 ,\n",
    "                  'corr_responses': ['3', '9', '2', '8']},    \n",
    "        'span5' : {'span_size':5 ,\n",
    "                  'corr_responses':['6', '4', '9', '1', '3']}, \n",
    "        'span6' : {'span_size': 6,\n",
    "                  'corr_responses': ['8', '6', '4', '9','3', '5']}\n",
    "        }"
   ]
  },
  {
   "cell_type": "code",
   "execution_count": 3,
   "id": "3b2bc0c0-db5c-4bba-b008-6d42209b48b5",
   "metadata": {
    "tags": []
   },
   "outputs": [
    {
     "name": "stdout",
     "output_type": "stream",
     "text": [
      "encountered space\n",
      "Get Response ran\n",
      "0\n",
      "['6', -1, -1, -1, -1]\n",
      "encountered space\n",
      "Get Response ran\n",
      "1\n",
      "['6', '4', -1, -1, -1]\n",
      "encountered space\n",
      "Get Response ran\n",
      "2\n",
      "['6', '4', '9', -1, -1]\n",
      "encountered space\n",
      "Get Response ran\n",
      "3\n",
      "['6', '4', '9', '1', -1]\n",
      "encountered space\n",
      "Get Response ran\n",
      "4\n",
      "['6', '4', '9', '1', '3']\n",
      "encountered space\n",
      "Get Response ran\n",
      "0\n",
      "['6', -1, -1, -1, -1]\n",
      "encountered space\n",
      "Get Response ran\n",
      "1\n",
      "['6', '4', -1, -1, -1]\n",
      "encountered space\n",
      "Get Response ran\n",
      "2\n",
      "['6', '4', '9', -1, -1]\n",
      "encountered space\n",
      "Get Response ran\n",
      "3\n",
      "['6', '4', '9', '1', -1]\n",
      "encountered space\n",
      "Get Response ran\n",
      "4\n",
      "['6', '4', '9', '1', '3']\n",
      "encountered space\n",
      "Get Response ran\n",
      "0\n",
      "['6', -1, -1, -1, -1]\n",
      "encountered space\n",
      "Get Response ran\n",
      "1\n",
      "['6', '4', -1, -1, -1]\n",
      "encountered space\n",
      "Get Response ran\n",
      "2\n",
      "['6', '4', '9', -1, -1]\n",
      "encountered space\n",
      "Get Response ran\n",
      "3\n",
      "['6', '4', '9', '1', -1]\n",
      "encountered space\n",
      "Get Response ran\n",
      "4\n",
      "['6', '4', '9', '1', '3']\n",
      "encountered space\n",
      "Get Response ran\n",
      "0\n",
      "['x', -1, -1, -1, -1]\n",
      "encountered space\n",
      "Get Response ran\n",
      "1\n",
      "['x', 'x', -1, -1, -1]\n",
      "encountered space\n",
      "Get Response ran\n",
      "2\n",
      "['x', 'x', 'x', -1, -1]\n",
      "encountered space\n",
      "Get Response ran\n",
      "3\n",
      "['x', 'x', 'x', 'x', -1]\n",
      "encountered space\n",
      "Get Response ran\n",
      "4\n",
      "['x', 'x', 'x', 'x', 'x']\n",
      "encountered space\n",
      "Get Response ran\n",
      "0\n",
      "['6', -1, -1, -1, -1]\n",
      "encountered space\n",
      "Get Response ran\n",
      "1\n",
      "['6', '4', -1, -1, -1]\n",
      "encountered space\n",
      "Get Response ran\n",
      "2\n",
      "['6', '4', '9', -1, -1]\n",
      "encountered space\n",
      "Get Response ran\n",
      "3\n",
      "['6', '4', '9', '1', -1]\n",
      "encountered space\n",
      "Get Response ran\n",
      "4\n",
      "['6', '4', '9', '1', '3']\n"
     ]
    },
    {
     "data": {
      "text/html": [
       "<div>\n",
       "<style scoped>\n",
       "    .dataframe tbody tr th:only-of-type {\n",
       "        vertical-align: middle;\n",
       "    }\n",
       "\n",
       "    .dataframe tbody tr th {\n",
       "        vertical-align: top;\n",
       "    }\n",
       "\n",
       "    .dataframe thead th {\n",
       "        text-align: right;\n",
       "    }\n",
       "</style>\n",
       "<table border=\"1\" class=\"dataframe\">\n",
       "  <thead>\n",
       "    <tr style=\"text-align: right;\">\n",
       "      <th></th>\n",
       "      <th>0</th>\n",
       "      <th>1</th>\n",
       "      <th>2</th>\n",
       "      <th>3</th>\n",
       "      <th>4</th>\n",
       "    </tr>\n",
       "  </thead>\n",
       "  <tbody>\n",
       "    <tr>\n",
       "      <th>0</th>\n",
       "      <td>True</td>\n",
       "      <td>True</td>\n",
       "      <td>True</td>\n",
       "      <td>False</td>\n",
       "      <td>True</td>\n",
       "    </tr>\n",
       "    <tr>\n",
       "      <th>1</th>\n",
       "      <td>True</td>\n",
       "      <td>True</td>\n",
       "      <td>True</td>\n",
       "      <td>False</td>\n",
       "      <td>True</td>\n",
       "    </tr>\n",
       "    <tr>\n",
       "      <th>2</th>\n",
       "      <td>True</td>\n",
       "      <td>True</td>\n",
       "      <td>True</td>\n",
       "      <td>False</td>\n",
       "      <td>True</td>\n",
       "    </tr>\n",
       "    <tr>\n",
       "      <th>3</th>\n",
       "      <td>True</td>\n",
       "      <td>True</td>\n",
       "      <td>True</td>\n",
       "      <td>False</td>\n",
       "      <td>True</td>\n",
       "    </tr>\n",
       "    <tr>\n",
       "      <th>4</th>\n",
       "      <td>True</td>\n",
       "      <td>True</td>\n",
       "      <td>True</td>\n",
       "      <td>False</td>\n",
       "      <td>True</td>\n",
       "    </tr>\n",
       "    <tr>\n",
       "      <th>5</th>\n",
       "      <td>NaN</td>\n",
       "      <td>NaN</td>\n",
       "      <td>NaN</td>\n",
       "      <td>NaN</td>\n",
       "      <td>NaN</td>\n",
       "    </tr>\n",
       "  </tbody>\n",
       "</table>\n",
       "</div>"
      ],
      "text/plain": [
       "      0     1     2      3     4\n",
       "0  True  True  True  False  True\n",
       "1  True  True  True  False  True\n",
       "2  True  True  True  False  True\n",
       "3  True  True  True  False  True\n",
       "4  True  True  True  False  True\n",
       "5   NaN   NaN   NaN    NaN   NaN"
      ]
     },
     "execution_count": 3,
     "metadata": {},
     "output_type": "execute_result"
    }
   ],
   "source": [
    "md.simulation(5, stims['span5'])\n"
   ]
  }
 ],
 "metadata": {
  "kernelspec": {
   "display_name": "Python 3",
   "language": "python",
   "name": "python3"
  },
  "language_info": {
   "codemirror_mode": {
    "name": "ipython",
    "version": 3
   },
   "file_extension": ".py",
   "mimetype": "text/x-python",
   "name": "python",
   "nbconvert_exporter": "python",
   "pygments_lexer": "ipython3",
   "version": "3.9.17"
  }
 },
 "nbformat": 4,
 "nbformat_minor": 5
}
