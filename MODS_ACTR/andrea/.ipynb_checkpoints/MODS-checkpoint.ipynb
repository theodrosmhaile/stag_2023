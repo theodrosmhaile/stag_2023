{
 "cells": [
  {
   "cell_type": "markdown",
   "id": "750ff0de-1e36-4713-a2a4-806491ee344c",
   "metadata": {},
   "source": [
    "**To run a simulation:** run function `md.simulation(nSims, experiment, mas)` It will return accuracy for specified span, across simulations. \n",
    "\n",
    "**To test the code:**  set `debug = True` and use `md.model_loop()`\n",
    "*Note:* Rehearse is loaded in the interface code - simply comment out that line to try code without rehearsal. "
   ]
  },
  {
   "cell_type": "code",
   "execution_count": 1,
   "id": "d6a74fe9-e824-4f74-bbce-a065f3ea97b7",
   "metadata": {
    "tags": []
   },
   "outputs": [
    {
     "name": "stdout",
     "output_type": "stream",
     "text": [
      "ACT-R connection has been started.\n",
      "#|Warning: Non-ACT-R messages during load of \"/Users/theodros/stag_2023/MODS_ACTR/andrea/Mods_a_la_Andy_upgrade.lisp\":\n",
      ";Compiler warnings for \"/Users/theodros/stag_2023/MODS_ACTR/andrea/Mods_a_la_Andy_upgrade.lisp\" :\n",
      ";   In RETURN-WORD: Undeclared free variable Y\n",
      "\n",
      " |#\n"
     ]
    }
   ],
   "source": [
    "import MODS_interface as md ################## in debug state for major update\n",
    "import actr\n",
    "import pandas as pd\n",
    "import numpy as np\n",
    "import random as rand\n",
    "import matplotlib \n",
    "\n",
    "### initialize stims\n",
    "stims = {3 : {'span_size': 3,\n",
    "                  'corr_responses': ['4', '1', '7']}, \n",
    "         4 : {'span_size':4 ,\n",
    "                  'corr_responses': ['3', '9', '2', '8']},    \n",
    "         5 : {'span_size':5 ,\n",
    "                  'corr_responses':['6', '4', '9', '1', '3']}, \n",
    "         6 : {'span_size': 6,\n",
    "                  'corr_responses': ['8', '6', '4', '9','3', '5']}\n",
    "        }"
   ]
  },
  {
   "cell_type": "code",
   "execution_count": null,
   "id": "95a613a2-4bd4-4a8a-8d2a-4d2dbad25555",
   "metadata": {},
   "outputs": [],
   "source": []
  },
  {
   "cell_type": "code",
   "execution_count": null,
   "id": "8519a0b4-60b0-4259-8618-71f042f1e7eb",
   "metadata": {
    "tags": []
   },
   "outputs": [],
   "source": [
    "#actr.run_n_events(500)"
   ]
  },
  {
   "cell_type": "code",
   "execution_count": null,
   "id": "4a967163-539b-4cc9-9298-a64a69879703",
   "metadata": {},
   "outputs": [],
   "source": [
    "md.nTrials"
   ]
  },
  {
   "cell_type": "code",
   "execution_count": null,
   "id": "8df53c82-9924-4ed2-ae33-a6e659a9f569",
   "metadata": {
    "tags": []
   },
   "outputs": [],
   "source": [
    "md.model_loop()"
   ]
  },
  {
   "cell_type": "code",
   "execution_count": null,
   "id": "876c6760-7338-40ce-9d84-0908d0d09159",
   "metadata": {
    "tags": []
   },
   "outputs": [],
   "source": [
    "actr.run(2)"
   ]
  },
  {
   "cell_type": "code",
   "execution_count": null,
   "id": "fd09c1d6-9131-4b00-b93b-b86ba2cb5d6c",
   "metadata": {},
   "outputs": [],
   "source": [
    "actr.run(2)"
   ]
  },
  {
   "cell_type": "code",
   "execution_count": null,
   "id": "751d26b5-4e42-4b31-8a36-f7f2845ad5fc",
   "metadata": {},
   "outputs": [],
   "source": [
    "actr.whynot(\"check-memory\")"
   ]
  },
  {
   "cell_type": "code",
   "execution_count": null,
   "id": "4fa56036-b793-4108-9114-3d65edea91a1",
   "metadata": {},
   "outputs": [],
   "source": [
    "md.current_response"
   ]
  },
  {
   "cell_type": "markdown",
   "id": "dea465ea-d7f9-4c02-ac94-7ea1c0c388ee",
   "metadata": {},
   "source": [
    "## Experiment"
   ]
  },
  {
   "cell_type": "code",
   "execution_count": 2,
   "id": "594f8f26-a3a9-4905-ad0f-50575efefa2c",
   "metadata": {
    "collapsed": true,
    "jupyter": {
     "outputs_hidden": true
    },
    "tags": []
   },
   "outputs": [
    {
     "name": "stderr",
     "output_type": "stream",
     "text": [
      "/Users/theodros/stag_2023/MODS_ACTR/andrea/MODS_interface_update.py:224: PerformanceWarning: DataFrame is highly fragmented.  This is usually the result of calling `frame.insert` many times, which has poor performance.  Consider joining all columns at once using pd.concat(axis=1) instead. To get a de-fragmented frame, use `newframe = frame.copy()`\n",
      "  resps.loc[0:(span-1), s] = np.array(current_response) == np.array(corr_responses)\n",
      "/Users/theodros/stag_2023/MODS_ACTR/andrea/MODS_interface_update.py:224: PerformanceWarning: DataFrame is highly fragmented.  This is usually the result of calling `frame.insert` many times, which has poor performance.  Consider joining all columns at once using pd.concat(axis=1) instead. To get a de-fragmented frame, use `newframe = frame.copy()`\n",
      "  resps.loc[0:(span-1), s] = np.array(current_response) == np.array(corr_responses)\n",
      "/Users/theodros/stag_2023/MODS_ACTR/andrea/MODS_interface_update.py:224: PerformanceWarning: DataFrame is highly fragmented.  This is usually the result of calling `frame.insert` many times, which has poor performance.  Consider joining all columns at once using pd.concat(axis=1) instead. To get a de-fragmented frame, use `newframe = frame.copy()`\n",
      "  resps.loc[0:(span-1), s] = np.array(current_response) == np.array(corr_responses)\n",
      "/Users/theodros/stag_2023/MODS_ACTR/andrea/MODS_interface_update.py:224: PerformanceWarning: DataFrame is highly fragmented.  This is usually the result of calling `frame.insert` many times, which has poor performance.  Consider joining all columns at once using pd.concat(axis=1) instead. To get a de-fragmented frame, use `newframe = frame.copy()`\n",
      "  resps.loc[0:(span-1), s] = np.array(current_response) == np.array(corr_responses)\n",
      "/Users/theodros/stag_2023/MODS_ACTR/andrea/MODS_interface_update.py:224: PerformanceWarning: DataFrame is highly fragmented.  This is usually the result of calling `frame.insert` many times, which has poor performance.  Consider joining all columns at once using pd.concat(axis=1) instead. To get a de-fragmented frame, use `newframe = frame.copy()`\n",
      "  resps.loc[0:(span-1), s] = np.array(current_response) == np.array(corr_responses)\n",
      "/Users/theodros/stag_2023/MODS_ACTR/andrea/MODS_interface_update.py:224: PerformanceWarning: DataFrame is highly fragmented.  This is usually the result of calling `frame.insert` many times, which has poor performance.  Consider joining all columns at once using pd.concat(axis=1) instead. To get a de-fragmented frame, use `newframe = frame.copy()`\n",
      "  resps.loc[0:(span-1), s] = np.array(current_response) == np.array(corr_responses)\n",
      "/Users/theodros/stag_2023/MODS_ACTR/andrea/MODS_interface_update.py:224: PerformanceWarning: DataFrame is highly fragmented.  This is usually the result of calling `frame.insert` many times, which has poor performance.  Consider joining all columns at once using pd.concat(axis=1) instead. To get a de-fragmented frame, use `newframe = frame.copy()`\n",
      "  resps.loc[0:(span-1), s] = np.array(current_response) == np.array(corr_responses)\n",
      "/Users/theodros/stag_2023/MODS_ACTR/andrea/MODS_interface_update.py:224: PerformanceWarning: DataFrame is highly fragmented.  This is usually the result of calling `frame.insert` many times, which has poor performance.  Consider joining all columns at once using pd.concat(axis=1) instead. To get a de-fragmented frame, use `newframe = frame.copy()`\n",
      "  resps.loc[0:(span-1), s] = np.array(current_response) == np.array(corr_responses)\n",
      "/Users/theodros/stag_2023/MODS_ACTR/andrea/MODS_interface_update.py:224: PerformanceWarning: DataFrame is highly fragmented.  This is usually the result of calling `frame.insert` many times, which has poor performance.  Consider joining all columns at once using pd.concat(axis=1) instead. To get a de-fragmented frame, use `newframe = frame.copy()`\n",
      "  resps.loc[0:(span-1), s] = np.array(current_response) == np.array(corr_responses)\n",
      "/Users/theodros/stag_2023/MODS_ACTR/andrea/MODS_interface_update.py:224: PerformanceWarning: DataFrame is highly fragmented.  This is usually the result of calling `frame.insert` many times, which has poor performance.  Consider joining all columns at once using pd.concat(axis=1) instead. To get a de-fragmented frame, use `newframe = frame.copy()`\n",
      "  resps.loc[0:(span-1), s] = np.array(current_response) == np.array(corr_responses)\n",
      "/Users/theodros/stag_2023/MODS_ACTR/andrea/MODS_interface_update.py:224: PerformanceWarning: DataFrame is highly fragmented.  This is usually the result of calling `frame.insert` many times, which has poor performance.  Consider joining all columns at once using pd.concat(axis=1) instead. To get a de-fragmented frame, use `newframe = frame.copy()`\n",
      "  resps.loc[0:(span-1), s] = np.array(current_response) == np.array(corr_responses)\n",
      "/Users/theodros/stag_2023/MODS_ACTR/andrea/MODS_interface_update.py:224: PerformanceWarning: DataFrame is highly fragmented.  This is usually the result of calling `frame.insert` many times, which has poor performance.  Consider joining all columns at once using pd.concat(axis=1) instead. To get a de-fragmented frame, use `newframe = frame.copy()`\n",
      "  resps.loc[0:(span-1), s] = np.array(current_response) == np.array(corr_responses)\n",
      "/Users/theodros/stag_2023/MODS_ACTR/andrea/MODS_interface_update.py:224: PerformanceWarning: DataFrame is highly fragmented.  This is usually the result of calling `frame.insert` many times, which has poor performance.  Consider joining all columns at once using pd.concat(axis=1) instead. To get a de-fragmented frame, use `newframe = frame.copy()`\n",
      "  resps.loc[0:(span-1), s] = np.array(current_response) == np.array(corr_responses)\n",
      "/Users/theodros/stag_2023/MODS_ACTR/andrea/MODS_interface_update.py:224: PerformanceWarning: DataFrame is highly fragmented.  This is usually the result of calling `frame.insert` many times, which has poor performance.  Consider joining all columns at once using pd.concat(axis=1) instead. To get a de-fragmented frame, use `newframe = frame.copy()`\n",
      "  resps.loc[0:(span-1), s] = np.array(current_response) == np.array(corr_responses)\n",
      "/Users/theodros/stag_2023/MODS_ACTR/andrea/MODS_interface_update.py:224: PerformanceWarning: DataFrame is highly fragmented.  This is usually the result of calling `frame.insert` many times, which has poor performance.  Consider joining all columns at once using pd.concat(axis=1) instead. To get a de-fragmented frame, use `newframe = frame.copy()`\n",
      "  resps.loc[0:(span-1), s] = np.array(current_response) == np.array(corr_responses)\n",
      "/Users/theodros/stag_2023/MODS_ACTR/andrea/MODS_interface_update.py:224: PerformanceWarning: DataFrame is highly fragmented.  This is usually the result of calling `frame.insert` many times, which has poor performance.  Consider joining all columns at once using pd.concat(axis=1) instead. To get a de-fragmented frame, use `newframe = frame.copy()`\n",
      "  resps.loc[0:(span-1), s] = np.array(current_response) == np.array(corr_responses)\n",
      "/Users/theodros/stag_2023/MODS_ACTR/andrea/MODS_interface_update.py:224: PerformanceWarning: DataFrame is highly fragmented.  This is usually the result of calling `frame.insert` many times, which has poor performance.  Consider joining all columns at once using pd.concat(axis=1) instead. To get a de-fragmented frame, use `newframe = frame.copy()`\n",
      "  resps.loc[0:(span-1), s] = np.array(current_response) == np.array(corr_responses)\n",
      "/Users/theodros/stag_2023/MODS_ACTR/andrea/MODS_interface_update.py:224: PerformanceWarning: DataFrame is highly fragmented.  This is usually the result of calling `frame.insert` many times, which has poor performance.  Consider joining all columns at once using pd.concat(axis=1) instead. To get a de-fragmented frame, use `newframe = frame.copy()`\n",
      "  resps.loc[0:(span-1), s] = np.array(current_response) == np.array(corr_responses)\n",
      "/Users/theodros/stag_2023/MODS_ACTR/andrea/MODS_interface_update.py:224: PerformanceWarning: DataFrame is highly fragmented.  This is usually the result of calling `frame.insert` many times, which has poor performance.  Consider joining all columns at once using pd.concat(axis=1) instead. To get a de-fragmented frame, use `newframe = frame.copy()`\n",
      "  resps.loc[0:(span-1), s] = np.array(current_response) == np.array(corr_responses)\n",
      "/Users/theodros/stag_2023/MODS_ACTR/andrea/MODS_interface_update.py:224: PerformanceWarning: DataFrame is highly fragmented.  This is usually the result of calling `frame.insert` many times, which has poor performance.  Consider joining all columns at once using pd.concat(axis=1) instead. To get a de-fragmented frame, use `newframe = frame.copy()`\n",
      "  resps.loc[0:(span-1), s] = np.array(current_response) == np.array(corr_responses)\n",
      "/Users/theodros/stag_2023/MODS_ACTR/andrea/MODS_interface_update.py:224: PerformanceWarning: DataFrame is highly fragmented.  This is usually the result of calling `frame.insert` many times, which has poor performance.  Consider joining all columns at once using pd.concat(axis=1) instead. To get a de-fragmented frame, use `newframe = frame.copy()`\n",
      "  resps.loc[0:(span-1), s] = np.array(current_response) == np.array(corr_responses)\n",
      "/Users/theodros/stag_2023/MODS_ACTR/andrea/MODS_interface_update.py:224: PerformanceWarning: DataFrame is highly fragmented.  This is usually the result of calling `frame.insert` many times, which has poor performance.  Consider joining all columns at once using pd.concat(axis=1) instead. To get a de-fragmented frame, use `newframe = frame.copy()`\n",
      "  resps.loc[0:(span-1), s] = np.array(current_response) == np.array(corr_responses)\n",
      "/Users/theodros/stag_2023/MODS_ACTR/andrea/MODS_interface_update.py:224: PerformanceWarning: DataFrame is highly fragmented.  This is usually the result of calling `frame.insert` many times, which has poor performance.  Consider joining all columns at once using pd.concat(axis=1) instead. To get a de-fragmented frame, use `newframe = frame.copy()`\n",
      "  resps.loc[0:(span-1), s] = np.array(current_response) == np.array(corr_responses)\n",
      "/Users/theodros/stag_2023/MODS_ACTR/andrea/MODS_interface_update.py:224: PerformanceWarning: DataFrame is highly fragmented.  This is usually the result of calling `frame.insert` many times, which has poor performance.  Consider joining all columns at once using pd.concat(axis=1) instead. To get a de-fragmented frame, use `newframe = frame.copy()`\n",
      "  resps.loc[0:(span-1), s] = np.array(current_response) == np.array(corr_responses)\n",
      "/Users/theodros/stag_2023/MODS_ACTR/andrea/MODS_interface_update.py:224: PerformanceWarning: DataFrame is highly fragmented.  This is usually the result of calling `frame.insert` many times, which has poor performance.  Consider joining all columns at once using pd.concat(axis=1) instead. To get a de-fragmented frame, use `newframe = frame.copy()`\n",
      "  resps.loc[0:(span-1), s] = np.array(current_response) == np.array(corr_responses)\n",
      "/Users/theodros/stag_2023/MODS_ACTR/andrea/MODS_interface_update.py:224: PerformanceWarning: DataFrame is highly fragmented.  This is usually the result of calling `frame.insert` many times, which has poor performance.  Consider joining all columns at once using pd.concat(axis=1) instead. To get a de-fragmented frame, use `newframe = frame.copy()`\n",
      "  resps.loc[0:(span-1), s] = np.array(current_response) == np.array(corr_responses)\n",
      "/Users/theodros/stag_2023/MODS_ACTR/andrea/MODS_interface_update.py:224: PerformanceWarning: DataFrame is highly fragmented.  This is usually the result of calling `frame.insert` many times, which has poor performance.  Consider joining all columns at once using pd.concat(axis=1) instead. To get a de-fragmented frame, use `newframe = frame.copy()`\n",
      "  resps.loc[0:(span-1), s] = np.array(current_response) == np.array(corr_responses)\n",
      "/Users/theodros/stag_2023/MODS_ACTR/andrea/MODS_interface_update.py:224: PerformanceWarning: DataFrame is highly fragmented.  This is usually the result of calling `frame.insert` many times, which has poor performance.  Consider joining all columns at once using pd.concat(axis=1) instead. To get a de-fragmented frame, use `newframe = frame.copy()`\n",
      "  resps.loc[0:(span-1), s] = np.array(current_response) == np.array(corr_responses)\n",
      "/Users/theodros/stag_2023/MODS_ACTR/andrea/MODS_interface_update.py:224: PerformanceWarning: DataFrame is highly fragmented.  This is usually the result of calling `frame.insert` many times, which has poor performance.  Consider joining all columns at once using pd.concat(axis=1) instead. To get a de-fragmented frame, use `newframe = frame.copy()`\n",
      "  resps.loc[0:(span-1), s] = np.array(current_response) == np.array(corr_responses)\n",
      "/Users/theodros/stag_2023/MODS_ACTR/andrea/MODS_interface_update.py:224: PerformanceWarning: DataFrame is highly fragmented.  This is usually the result of calling `frame.insert` many times, which has poor performance.  Consider joining all columns at once using pd.concat(axis=1) instead. To get a de-fragmented frame, use `newframe = frame.copy()`\n",
      "  resps.loc[0:(span-1), s] = np.array(current_response) == np.array(corr_responses)\n",
      "/Users/theodros/stag_2023/MODS_ACTR/andrea/MODS_interface_update.py:224: PerformanceWarning: DataFrame is highly fragmented.  This is usually the result of calling `frame.insert` many times, which has poor performance.  Consider joining all columns at once using pd.concat(axis=1) instead. To get a de-fragmented frame, use `newframe = frame.copy()`\n",
      "  resps.loc[0:(span-1), s] = np.array(current_response) == np.array(corr_responses)\n",
      "/Users/theodros/stag_2023/MODS_ACTR/andrea/MODS_interface_update.py:224: PerformanceWarning: DataFrame is highly fragmented.  This is usually the result of calling `frame.insert` many times, which has poor performance.  Consider joining all columns at once using pd.concat(axis=1) instead. To get a de-fragmented frame, use `newframe = frame.copy()`\n",
      "  resps.loc[0:(span-1), s] = np.array(current_response) == np.array(corr_responses)\n",
      "/Users/theodros/stag_2023/MODS_ACTR/andrea/MODS_interface_update.py:224: PerformanceWarning: DataFrame is highly fragmented.  This is usually the result of calling `frame.insert` many times, which has poor performance.  Consider joining all columns at once using pd.concat(axis=1) instead. To get a de-fragmented frame, use `newframe = frame.copy()`\n",
      "  resps.loc[0:(span-1), s] = np.array(current_response) == np.array(corr_responses)\n",
      "/Users/theodros/stag_2023/MODS_ACTR/andrea/MODS_interface_update.py:224: PerformanceWarning: DataFrame is highly fragmented.  This is usually the result of calling `frame.insert` many times, which has poor performance.  Consider joining all columns at once using pd.concat(axis=1) instead. To get a de-fragmented frame, use `newframe = frame.copy()`\n",
      "  resps.loc[0:(span-1), s] = np.array(current_response) == np.array(corr_responses)\n",
      "/Users/theodros/stag_2023/MODS_ACTR/andrea/MODS_interface_update.py:224: PerformanceWarning: DataFrame is highly fragmented.  This is usually the result of calling `frame.insert` many times, which has poor performance.  Consider joining all columns at once using pd.concat(axis=1) instead. To get a de-fragmented frame, use `newframe = frame.copy()`\n",
      "  resps.loc[0:(span-1), s] = np.array(current_response) == np.array(corr_responses)\n",
      "/Users/theodros/stag_2023/MODS_ACTR/andrea/MODS_interface_update.py:224: PerformanceWarning: DataFrame is highly fragmented.  This is usually the result of calling `frame.insert` many times, which has poor performance.  Consider joining all columns at once using pd.concat(axis=1) instead. To get a de-fragmented frame, use `newframe = frame.copy()`\n",
      "  resps.loc[0:(span-1), s] = np.array(current_response) == np.array(corr_responses)\n",
      "/Users/theodros/stag_2023/MODS_ACTR/andrea/MODS_interface_update.py:224: PerformanceWarning: DataFrame is highly fragmented.  This is usually the result of calling `frame.insert` many times, which has poor performance.  Consider joining all columns at once using pd.concat(axis=1) instead. To get a de-fragmented frame, use `newframe = frame.copy()`\n",
      "  resps.loc[0:(span-1), s] = np.array(current_response) == np.array(corr_responses)\n",
      "/Users/theodros/stag_2023/MODS_ACTR/andrea/MODS_interface_update.py:224: PerformanceWarning: DataFrame is highly fragmented.  This is usually the result of calling `frame.insert` many times, which has poor performance.  Consider joining all columns at once using pd.concat(axis=1) instead. To get a de-fragmented frame, use `newframe = frame.copy()`\n",
      "  resps.loc[0:(span-1), s] = np.array(current_response) == np.array(corr_responses)\n",
      "/Users/theodros/stag_2023/MODS_ACTR/andrea/MODS_interface_update.py:224: PerformanceWarning: DataFrame is highly fragmented.  This is usually the result of calling `frame.insert` many times, which has poor performance.  Consider joining all columns at once using pd.concat(axis=1) instead. To get a de-fragmented frame, use `newframe = frame.copy()`\n",
      "  resps.loc[0:(span-1), s] = np.array(current_response) == np.array(corr_responses)\n",
      "/Users/theodros/stag_2023/MODS_ACTR/andrea/MODS_interface_update.py:224: PerformanceWarning: DataFrame is highly fragmented.  This is usually the result of calling `frame.insert` many times, which has poor performance.  Consider joining all columns at once using pd.concat(axis=1) instead. To get a de-fragmented frame, use `newframe = frame.copy()`\n",
      "  resps.loc[0:(span-1), s] = np.array(current_response) == np.array(corr_responses)\n",
      "/Users/theodros/stag_2023/MODS_ACTR/andrea/MODS_interface_update.py:224: PerformanceWarning: DataFrame is highly fragmented.  This is usually the result of calling `frame.insert` many times, which has poor performance.  Consider joining all columns at once using pd.concat(axis=1) instead. To get a de-fragmented frame, use `newframe = frame.copy()`\n",
      "  resps.loc[0:(span-1), s] = np.array(current_response) == np.array(corr_responses)\n",
      "/Users/theodros/stag_2023/MODS_ACTR/andrea/MODS_interface_update.py:224: PerformanceWarning: DataFrame is highly fragmented.  This is usually the result of calling `frame.insert` many times, which has poor performance.  Consider joining all columns at once using pd.concat(axis=1) instead. To get a de-fragmented frame, use `newframe = frame.copy()`\n",
      "  resps.loc[0:(span-1), s] = np.array(current_response) == np.array(corr_responses)\n",
      "/Users/theodros/stag_2023/MODS_ACTR/andrea/MODS_interface_update.py:224: PerformanceWarning: DataFrame is highly fragmented.  This is usually the result of calling `frame.insert` many times, which has poor performance.  Consider joining all columns at once using pd.concat(axis=1) instead. To get a de-fragmented frame, use `newframe = frame.copy()`\n",
      "  resps.loc[0:(span-1), s] = np.array(current_response) == np.array(corr_responses)\n",
      "/Users/theodros/stag_2023/MODS_ACTR/andrea/MODS_interface_update.py:224: PerformanceWarning: DataFrame is highly fragmented.  This is usually the result of calling `frame.insert` many times, which has poor performance.  Consider joining all columns at once using pd.concat(axis=1) instead. To get a de-fragmented frame, use `newframe = frame.copy()`\n",
      "  resps.loc[0:(span-1), s] = np.array(current_response) == np.array(corr_responses)\n",
      "/Users/theodros/stag_2023/MODS_ACTR/andrea/MODS_interface_update.py:224: PerformanceWarning: DataFrame is highly fragmented.  This is usually the result of calling `frame.insert` many times, which has poor performance.  Consider joining all columns at once using pd.concat(axis=1) instead. To get a de-fragmented frame, use `newframe = frame.copy()`\n",
      "  resps.loc[0:(span-1), s] = np.array(current_response) == np.array(corr_responses)\n",
      "/Users/theodros/stag_2023/MODS_ACTR/andrea/MODS_interface_update.py:224: PerformanceWarning: DataFrame is highly fragmented.  This is usually the result of calling `frame.insert` many times, which has poor performance.  Consider joining all columns at once using pd.concat(axis=1) instead. To get a de-fragmented frame, use `newframe = frame.copy()`\n",
      "  resps.loc[0:(span-1), s] = np.array(current_response) == np.array(corr_responses)\n",
      "/Users/theodros/stag_2023/MODS_ACTR/andrea/MODS_interface_update.py:224: PerformanceWarning: DataFrame is highly fragmented.  This is usually the result of calling `frame.insert` many times, which has poor performance.  Consider joining all columns at once using pd.concat(axis=1) instead. To get a de-fragmented frame, use `newframe = frame.copy()`\n",
      "  resps.loc[0:(span-1), s] = np.array(current_response) == np.array(corr_responses)\n",
      "/Users/theodros/stag_2023/MODS_ACTR/andrea/MODS_interface_update.py:224: PerformanceWarning: DataFrame is highly fragmented.  This is usually the result of calling `frame.insert` many times, which has poor performance.  Consider joining all columns at once using pd.concat(axis=1) instead. To get a de-fragmented frame, use `newframe = frame.copy()`\n",
      "  resps.loc[0:(span-1), s] = np.array(current_response) == np.array(corr_responses)\n",
      "/Users/theodros/stag_2023/MODS_ACTR/andrea/MODS_interface_update.py:224: PerformanceWarning: DataFrame is highly fragmented.  This is usually the result of calling `frame.insert` many times, which has poor performance.  Consider joining all columns at once using pd.concat(axis=1) instead. To get a de-fragmented frame, use `newframe = frame.copy()`\n",
      "  resps.loc[0:(span-1), s] = np.array(current_response) == np.array(corr_responses)\n",
      "/Users/theodros/stag_2023/MODS_ACTR/andrea/MODS_interface_update.py:224: PerformanceWarning: DataFrame is highly fragmented.  This is usually the result of calling `frame.insert` many times, which has poor performance.  Consider joining all columns at once using pd.concat(axis=1) instead. To get a de-fragmented frame, use `newframe = frame.copy()`\n",
      "  resps.loc[0:(span-1), s] = np.array(current_response) == np.array(corr_responses)\n",
      "/Users/theodros/stag_2023/MODS_ACTR/andrea/MODS_interface_update.py:224: PerformanceWarning: DataFrame is highly fragmented.  This is usually the result of calling `frame.insert` many times, which has poor performance.  Consider joining all columns at once using pd.concat(axis=1) instead. To get a de-fragmented frame, use `newframe = frame.copy()`\n",
      "  resps.loc[0:(span-1), s] = np.array(current_response) == np.array(corr_responses)\n",
      "/Users/theodros/stag_2023/MODS_ACTR/andrea/MODS_interface_update.py:224: PerformanceWarning: DataFrame is highly fragmented.  This is usually the result of calling `frame.insert` many times, which has poor performance.  Consider joining all columns at once using pd.concat(axis=1) instead. To get a de-fragmented frame, use `newframe = frame.copy()`\n",
      "  resps.loc[0:(span-1), s] = np.array(current_response) == np.array(corr_responses)\n",
      "/Users/theodros/stag_2023/MODS_ACTR/andrea/MODS_interface_update.py:224: PerformanceWarning: DataFrame is highly fragmented.  This is usually the result of calling `frame.insert` many times, which has poor performance.  Consider joining all columns at once using pd.concat(axis=1) instead. To get a de-fragmented frame, use `newframe = frame.copy()`\n",
      "  resps.loc[0:(span-1), s] = np.array(current_response) == np.array(corr_responses)\n",
      "/Users/theodros/stag_2023/MODS_ACTR/andrea/MODS_interface_update.py:224: PerformanceWarning: DataFrame is highly fragmented.  This is usually the result of calling `frame.insert` many times, which has poor performance.  Consider joining all columns at once using pd.concat(axis=1) instead. To get a de-fragmented frame, use `newframe = frame.copy()`\n",
      "  resps.loc[0:(span-1), s] = np.array(current_response) == np.array(corr_responses)\n",
      "/Users/theodros/stag_2023/MODS_ACTR/andrea/MODS_interface_update.py:224: PerformanceWarning: DataFrame is highly fragmented.  This is usually the result of calling `frame.insert` many times, which has poor performance.  Consider joining all columns at once using pd.concat(axis=1) instead. To get a de-fragmented frame, use `newframe = frame.copy()`\n",
      "  resps.loc[0:(span-1), s] = np.array(current_response) == np.array(corr_responses)\n",
      "/Users/theodros/stag_2023/MODS_ACTR/andrea/MODS_interface_update.py:224: PerformanceWarning: DataFrame is highly fragmented.  This is usually the result of calling `frame.insert` many times, which has poor performance.  Consider joining all columns at once using pd.concat(axis=1) instead. To get a de-fragmented frame, use `newframe = frame.copy()`\n",
      "  resps.loc[0:(span-1), s] = np.array(current_response) == np.array(corr_responses)\n",
      "/Users/theodros/stag_2023/MODS_ACTR/andrea/MODS_interface_update.py:224: PerformanceWarning: DataFrame is highly fragmented.  This is usually the result of calling `frame.insert` many times, which has poor performance.  Consider joining all columns at once using pd.concat(axis=1) instead. To get a de-fragmented frame, use `newframe = frame.copy()`\n",
      "  resps.loc[0:(span-1), s] = np.array(current_response) == np.array(corr_responses)\n",
      "/Users/theodros/stag_2023/MODS_ACTR/andrea/MODS_interface_update.py:224: PerformanceWarning: DataFrame is highly fragmented.  This is usually the result of calling `frame.insert` many times, which has poor performance.  Consider joining all columns at once using pd.concat(axis=1) instead. To get a de-fragmented frame, use `newframe = frame.copy()`\n",
      "  resps.loc[0:(span-1), s] = np.array(current_response) == np.array(corr_responses)\n",
      "/Users/theodros/stag_2023/MODS_ACTR/andrea/MODS_interface_update.py:224: PerformanceWarning: DataFrame is highly fragmented.  This is usually the result of calling `frame.insert` many times, which has poor performance.  Consider joining all columns at once using pd.concat(axis=1) instead. To get a de-fragmented frame, use `newframe = frame.copy()`\n",
      "  resps.loc[0:(span-1), s] = np.array(current_response) == np.array(corr_responses)\n",
      "/Users/theodros/stag_2023/MODS_ACTR/andrea/MODS_interface_update.py:224: PerformanceWarning: DataFrame is highly fragmented.  This is usually the result of calling `frame.insert` many times, which has poor performance.  Consider joining all columns at once using pd.concat(axis=1) instead. To get a de-fragmented frame, use `newframe = frame.copy()`\n",
      "  resps.loc[0:(span-1), s] = np.array(current_response) == np.array(corr_responses)\n",
      "/Users/theodros/stag_2023/MODS_ACTR/andrea/MODS_interface_update.py:224: PerformanceWarning: DataFrame is highly fragmented.  This is usually the result of calling `frame.insert` many times, which has poor performance.  Consider joining all columns at once using pd.concat(axis=1) instead. To get a de-fragmented frame, use `newframe = frame.copy()`\n",
      "  resps.loc[0:(span-1), s] = np.array(current_response) == np.array(corr_responses)\n",
      "/Users/theodros/stag_2023/MODS_ACTR/andrea/MODS_interface_update.py:224: PerformanceWarning: DataFrame is highly fragmented.  This is usually the result of calling `frame.insert` many times, which has poor performance.  Consider joining all columns at once using pd.concat(axis=1) instead. To get a de-fragmented frame, use `newframe = frame.copy()`\n",
      "  resps.loc[0:(span-1), s] = np.array(current_response) == np.array(corr_responses)\n",
      "/Users/theodros/stag_2023/MODS_ACTR/andrea/MODS_interface_update.py:224: PerformanceWarning: DataFrame is highly fragmented.  This is usually the result of calling `frame.insert` many times, which has poor performance.  Consider joining all columns at once using pd.concat(axis=1) instead. To get a de-fragmented frame, use `newframe = frame.copy()`\n",
      "  resps.loc[0:(span-1), s] = np.array(current_response) == np.array(corr_responses)\n",
      "/Users/theodros/stag_2023/MODS_ACTR/andrea/MODS_interface_update.py:224: PerformanceWarning: DataFrame is highly fragmented.  This is usually the result of calling `frame.insert` many times, which has poor performance.  Consider joining all columns at once using pd.concat(axis=1) instead. To get a de-fragmented frame, use `newframe = frame.copy()`\n",
      "  resps.loc[0:(span-1), s] = np.array(current_response) == np.array(corr_responses)\n",
      "/Users/theodros/stag_2023/MODS_ACTR/andrea/MODS_interface_update.py:224: PerformanceWarning: DataFrame is highly fragmented.  This is usually the result of calling `frame.insert` many times, which has poor performance.  Consider joining all columns at once using pd.concat(axis=1) instead. To get a de-fragmented frame, use `newframe = frame.copy()`\n",
      "  resps.loc[0:(span-1), s] = np.array(current_response) == np.array(corr_responses)\n",
      "/Users/theodros/stag_2023/MODS_ACTR/andrea/MODS_interface_update.py:224: PerformanceWarning: DataFrame is highly fragmented.  This is usually the result of calling `frame.insert` many times, which has poor performance.  Consider joining all columns at once using pd.concat(axis=1) instead. To get a de-fragmented frame, use `newframe = frame.copy()`\n",
      "  resps.loc[0:(span-1), s] = np.array(current_response) == np.array(corr_responses)\n",
      "/Users/theodros/stag_2023/MODS_ACTR/andrea/MODS_interface_update.py:224: PerformanceWarning: DataFrame is highly fragmented.  This is usually the result of calling `frame.insert` many times, which has poor performance.  Consider joining all columns at once using pd.concat(axis=1) instead. To get a de-fragmented frame, use `newframe = frame.copy()`\n",
      "  resps.loc[0:(span-1), s] = np.array(current_response) == np.array(corr_responses)\n",
      "/Users/theodros/stag_2023/MODS_ACTR/andrea/MODS_interface_update.py:224: PerformanceWarning: DataFrame is highly fragmented.  This is usually the result of calling `frame.insert` many times, which has poor performance.  Consider joining all columns at once using pd.concat(axis=1) instead. To get a de-fragmented frame, use `newframe = frame.copy()`\n",
      "  resps.loc[0:(span-1), s] = np.array(current_response) == np.array(corr_responses)\n",
      "/Users/theodros/stag_2023/MODS_ACTR/andrea/MODS_interface_update.py:224: PerformanceWarning: DataFrame is highly fragmented.  This is usually the result of calling `frame.insert` many times, which has poor performance.  Consider joining all columns at once using pd.concat(axis=1) instead. To get a de-fragmented frame, use `newframe = frame.copy()`\n",
      "  resps.loc[0:(span-1), s] = np.array(current_response) == np.array(corr_responses)\n",
      "/Users/theodros/stag_2023/MODS_ACTR/andrea/MODS_interface_update.py:224: PerformanceWarning: DataFrame is highly fragmented.  This is usually the result of calling `frame.insert` many times, which has poor performance.  Consider joining all columns at once using pd.concat(axis=1) instead. To get a de-fragmented frame, use `newframe = frame.copy()`\n",
      "  resps.loc[0:(span-1), s] = np.array(current_response) == np.array(corr_responses)\n",
      "/Users/theodros/stag_2023/MODS_ACTR/andrea/MODS_interface_update.py:224: PerformanceWarning: DataFrame is highly fragmented.  This is usually the result of calling `frame.insert` many times, which has poor performance.  Consider joining all columns at once using pd.concat(axis=1) instead. To get a de-fragmented frame, use `newframe = frame.copy()`\n",
      "  resps.loc[0:(span-1), s] = np.array(current_response) == np.array(corr_responses)\n",
      "/Users/theodros/stag_2023/MODS_ACTR/andrea/MODS_interface_update.py:224: PerformanceWarning: DataFrame is highly fragmented.  This is usually the result of calling `frame.insert` many times, which has poor performance.  Consider joining all columns at once using pd.concat(axis=1) instead. To get a de-fragmented frame, use `newframe = frame.copy()`\n",
      "  resps.loc[0:(span-1), s] = np.array(current_response) == np.array(corr_responses)\n",
      "/Users/theodros/stag_2023/MODS_ACTR/andrea/MODS_interface_update.py:224: PerformanceWarning: DataFrame is highly fragmented.  This is usually the result of calling `frame.insert` many times, which has poor performance.  Consider joining all columns at once using pd.concat(axis=1) instead. To get a de-fragmented frame, use `newframe = frame.copy()`\n",
      "  resps.loc[0:(span-1), s] = np.array(current_response) == np.array(corr_responses)\n",
      "/Users/theodros/stag_2023/MODS_ACTR/andrea/MODS_interface_update.py:224: PerformanceWarning: DataFrame is highly fragmented.  This is usually the result of calling `frame.insert` many times, which has poor performance.  Consider joining all columns at once using pd.concat(axis=1) instead. To get a de-fragmented frame, use `newframe = frame.copy()`\n",
      "  resps.loc[0:(span-1), s] = np.array(current_response) == np.array(corr_responses)\n",
      "/Users/theodros/stag_2023/MODS_ACTR/andrea/MODS_interface_update.py:224: PerformanceWarning: DataFrame is highly fragmented.  This is usually the result of calling `frame.insert` many times, which has poor performance.  Consider joining all columns at once using pd.concat(axis=1) instead. To get a de-fragmented frame, use `newframe = frame.copy()`\n",
      "  resps.loc[0:(span-1), s] = np.array(current_response) == np.array(corr_responses)\n",
      "/Users/theodros/stag_2023/MODS_ACTR/andrea/MODS_interface_update.py:224: PerformanceWarning: DataFrame is highly fragmented.  This is usually the result of calling `frame.insert` many times, which has poor performance.  Consider joining all columns at once using pd.concat(axis=1) instead. To get a de-fragmented frame, use `newframe = frame.copy()`\n",
      "  resps.loc[0:(span-1), s] = np.array(current_response) == np.array(corr_responses)\n",
      "/Users/theodros/stag_2023/MODS_ACTR/andrea/MODS_interface_update.py:224: PerformanceWarning: DataFrame is highly fragmented.  This is usually the result of calling `frame.insert` many times, which has poor performance.  Consider joining all columns at once using pd.concat(axis=1) instead. To get a de-fragmented frame, use `newframe = frame.copy()`\n",
      "  resps.loc[0:(span-1), s] = np.array(current_response) == np.array(corr_responses)\n",
      "/Users/theodros/stag_2023/MODS_ACTR/andrea/MODS_interface_update.py:224: PerformanceWarning: DataFrame is highly fragmented.  This is usually the result of calling `frame.insert` many times, which has poor performance.  Consider joining all columns at once using pd.concat(axis=1) instead. To get a de-fragmented frame, use `newframe = frame.copy()`\n",
      "  resps.loc[0:(span-1), s] = np.array(current_response) == np.array(corr_responses)\n",
      "/Users/theodros/stag_2023/MODS_ACTR/andrea/MODS_interface_update.py:224: PerformanceWarning: DataFrame is highly fragmented.  This is usually the result of calling `frame.insert` many times, which has poor performance.  Consider joining all columns at once using pd.concat(axis=1) instead. To get a de-fragmented frame, use `newframe = frame.copy()`\n",
      "  resps.loc[0:(span-1), s] = np.array(current_response) == np.array(corr_responses)\n",
      "/Users/theodros/stag_2023/MODS_ACTR/andrea/MODS_interface_update.py:224: PerformanceWarning: DataFrame is highly fragmented.  This is usually the result of calling `frame.insert` many times, which has poor performance.  Consider joining all columns at once using pd.concat(axis=1) instead. To get a de-fragmented frame, use `newframe = frame.copy()`\n",
      "  resps.loc[0:(span-1), s] = np.array(current_response) == np.array(corr_responses)\n",
      "/Users/theodros/stag_2023/MODS_ACTR/andrea/MODS_interface_update.py:224: PerformanceWarning: DataFrame is highly fragmented.  This is usually the result of calling `frame.insert` many times, which has poor performance.  Consider joining all columns at once using pd.concat(axis=1) instead. To get a de-fragmented frame, use `newframe = frame.copy()`\n",
      "  resps.loc[0:(span-1), s] = np.array(current_response) == np.array(corr_responses)\n",
      "/Users/theodros/stag_2023/MODS_ACTR/andrea/MODS_interface_update.py:224: PerformanceWarning: DataFrame is highly fragmented.  This is usually the result of calling `frame.insert` many times, which has poor performance.  Consider joining all columns at once using pd.concat(axis=1) instead. To get a de-fragmented frame, use `newframe = frame.copy()`\n",
      "  resps.loc[0:(span-1), s] = np.array(current_response) == np.array(corr_responses)\n",
      "/Users/theodros/stag_2023/MODS_ACTR/andrea/MODS_interface_update.py:224: PerformanceWarning: DataFrame is highly fragmented.  This is usually the result of calling `frame.insert` many times, which has poor performance.  Consider joining all columns at once using pd.concat(axis=1) instead. To get a de-fragmented frame, use `newframe = frame.copy()`\n",
      "  resps.loc[0:(span-1), s] = np.array(current_response) == np.array(corr_responses)\n",
      "/Users/theodros/stag_2023/MODS_ACTR/andrea/MODS_interface_update.py:224: PerformanceWarning: DataFrame is highly fragmented.  This is usually the result of calling `frame.insert` many times, which has poor performance.  Consider joining all columns at once using pd.concat(axis=1) instead. To get a de-fragmented frame, use `newframe = frame.copy()`\n",
      "  resps.loc[0:(span-1), s] = np.array(current_response) == np.array(corr_responses)\n",
      "/Users/theodros/stag_2023/MODS_ACTR/andrea/MODS_interface_update.py:224: PerformanceWarning: DataFrame is highly fragmented.  This is usually the result of calling `frame.insert` many times, which has poor performance.  Consider joining all columns at once using pd.concat(axis=1) instead. To get a de-fragmented frame, use `newframe = frame.copy()`\n",
      "  resps.loc[0:(span-1), s] = np.array(current_response) == np.array(corr_responses)\n",
      "/Users/theodros/stag_2023/MODS_ACTR/andrea/MODS_interface_update.py:224: PerformanceWarning: DataFrame is highly fragmented.  This is usually the result of calling `frame.insert` many times, which has poor performance.  Consider joining all columns at once using pd.concat(axis=1) instead. To get a de-fragmented frame, use `newframe = frame.copy()`\n",
      "  resps.loc[0:(span-1), s] = np.array(current_response) == np.array(corr_responses)\n",
      "/Users/theodros/stag_2023/MODS_ACTR/andrea/MODS_interface_update.py:224: PerformanceWarning: DataFrame is highly fragmented.  This is usually the result of calling `frame.insert` many times, which has poor performance.  Consider joining all columns at once using pd.concat(axis=1) instead. To get a de-fragmented frame, use `newframe = frame.copy()`\n",
      "  resps.loc[0:(span-1), s] = np.array(current_response) == np.array(corr_responses)\n",
      "/Users/theodros/stag_2023/MODS_ACTR/andrea/MODS_interface_update.py:224: PerformanceWarning: DataFrame is highly fragmented.  This is usually the result of calling `frame.insert` many times, which has poor performance.  Consider joining all columns at once using pd.concat(axis=1) instead. To get a de-fragmented frame, use `newframe = frame.copy()`\n",
      "  resps.loc[0:(span-1), s] = np.array(current_response) == np.array(corr_responses)\n",
      "/Users/theodros/stag_2023/MODS_ACTR/andrea/MODS_interface_update.py:224: PerformanceWarning: DataFrame is highly fragmented.  This is usually the result of calling `frame.insert` many times, which has poor performance.  Consider joining all columns at once using pd.concat(axis=1) instead. To get a de-fragmented frame, use `newframe = frame.copy()`\n",
      "  resps.loc[0:(span-1), s] = np.array(current_response) == np.array(corr_responses)\n",
      "/Users/theodros/stag_2023/MODS_ACTR/andrea/MODS_interface_update.py:224: PerformanceWarning: DataFrame is highly fragmented.  This is usually the result of calling `frame.insert` many times, which has poor performance.  Consider joining all columns at once using pd.concat(axis=1) instead. To get a de-fragmented frame, use `newframe = frame.copy()`\n",
      "  resps.loc[0:(span-1), s] = np.array(current_response) == np.array(corr_responses)\n",
      "/Users/theodros/stag_2023/MODS_ACTR/andrea/MODS_interface_update.py:224: PerformanceWarning: DataFrame is highly fragmented.  This is usually the result of calling `frame.insert` many times, which has poor performance.  Consider joining all columns at once using pd.concat(axis=1) instead. To get a de-fragmented frame, use `newframe = frame.copy()`\n",
      "  resps.loc[0:(span-1), s] = np.array(current_response) == np.array(corr_responses)\n",
      "/Users/theodros/stag_2023/MODS_ACTR/andrea/MODS_interface_update.py:224: PerformanceWarning: DataFrame is highly fragmented.  This is usually the result of calling `frame.insert` many times, which has poor performance.  Consider joining all columns at once using pd.concat(axis=1) instead. To get a de-fragmented frame, use `newframe = frame.copy()`\n",
      "  resps.loc[0:(span-1), s] = np.array(current_response) == np.array(corr_responses)\n",
      "/Users/theodros/stag_2023/MODS_ACTR/andrea/MODS_interface_update.py:224: PerformanceWarning: DataFrame is highly fragmented.  This is usually the result of calling `frame.insert` many times, which has poor performance.  Consider joining all columns at once using pd.concat(axis=1) instead. To get a de-fragmented frame, use `newframe = frame.copy()`\n",
      "  resps.loc[0:(span-1), s] = np.array(current_response) == np.array(corr_responses)\n",
      "/Users/theodros/stag_2023/MODS_ACTR/andrea/MODS_interface_update.py:224: PerformanceWarning: DataFrame is highly fragmented.  This is usually the result of calling `frame.insert` many times, which has poor performance.  Consider joining all columns at once using pd.concat(axis=1) instead. To get a de-fragmented frame, use `newframe = frame.copy()`\n",
      "  resps.loc[0:(span-1), s] = np.array(current_response) == np.array(corr_responses)\n",
      "/Users/theodros/stag_2023/MODS_ACTR/andrea/MODS_interface_update.py:224: PerformanceWarning: DataFrame is highly fragmented.  This is usually the result of calling `frame.insert` many times, which has poor performance.  Consider joining all columns at once using pd.concat(axis=1) instead. To get a de-fragmented frame, use `newframe = frame.copy()`\n",
      "  resps.loc[0:(span-1), s] = np.array(current_response) == np.array(corr_responses)\n",
      "/Users/theodros/stag_2023/MODS_ACTR/andrea/MODS_interface_update.py:224: PerformanceWarning: DataFrame is highly fragmented.  This is usually the result of calling `frame.insert` many times, which has poor performance.  Consider joining all columns at once using pd.concat(axis=1) instead. To get a de-fragmented frame, use `newframe = frame.copy()`\n",
      "  resps.loc[0:(span-1), s] = np.array(current_response) == np.array(corr_responses)\n",
      "/Users/theodros/stag_2023/MODS_ACTR/andrea/MODS_interface_update.py:224: PerformanceWarning: DataFrame is highly fragmented.  This is usually the result of calling `frame.insert` many times, which has poor performance.  Consider joining all columns at once using pd.concat(axis=1) instead. To get a de-fragmented frame, use `newframe = frame.copy()`\n",
      "  resps.loc[0:(span-1), s] = np.array(current_response) == np.array(corr_responses)\n",
      "/Users/theodros/stag_2023/MODS_ACTR/andrea/MODS_interface_update.py:224: PerformanceWarning: DataFrame is highly fragmented.  This is usually the result of calling `frame.insert` many times, which has poor performance.  Consider joining all columns at once using pd.concat(axis=1) instead. To get a de-fragmented frame, use `newframe = frame.copy()`\n",
      "  resps.loc[0:(span-1), s] = np.array(current_response) == np.array(corr_responses)\n",
      "/Users/theodros/stag_2023/MODS_ACTR/andrea/MODS_interface_update.py:224: PerformanceWarning: DataFrame is highly fragmented.  This is usually the result of calling `frame.insert` many times, which has poor performance.  Consider joining all columns at once using pd.concat(axis=1) instead. To get a de-fragmented frame, use `newframe = frame.copy()`\n",
      "  resps.loc[0:(span-1), s] = np.array(current_response) == np.array(corr_responses)\n",
      "/Users/theodros/stag_2023/MODS_ACTR/andrea/MODS_interface_update.py:224: PerformanceWarning: DataFrame is highly fragmented.  This is usually the result of calling `frame.insert` many times, which has poor performance.  Consider joining all columns at once using pd.concat(axis=1) instead. To get a de-fragmented frame, use `newframe = frame.copy()`\n",
      "  resps.loc[0:(span-1), s] = np.array(current_response) == np.array(corr_responses)\n",
      "/Users/theodros/stag_2023/MODS_ACTR/andrea/MODS_interface_update.py:224: PerformanceWarning: DataFrame is highly fragmented.  This is usually the result of calling `frame.insert` many times, which has poor performance.  Consider joining all columns at once using pd.concat(axis=1) instead. To get a de-fragmented frame, use `newframe = frame.copy()`\n",
      "  resps.loc[0:(span-1), s] = np.array(current_response) == np.array(corr_responses)\n",
      "/Users/theodros/stag_2023/MODS_ACTR/andrea/MODS_interface_update.py:224: PerformanceWarning: DataFrame is highly fragmented.  This is usually the result of calling `frame.insert` many times, which has poor performance.  Consider joining all columns at once using pd.concat(axis=1) instead. To get a de-fragmented frame, use `newframe = frame.copy()`\n",
      "  resps.loc[0:(span-1), s] = np.array(current_response) == np.array(corr_responses)\n",
      "/Users/theodros/stag_2023/MODS_ACTR/andrea/MODS_interface_update.py:224: PerformanceWarning: DataFrame is highly fragmented.  This is usually the result of calling `frame.insert` many times, which has poor performance.  Consider joining all columns at once using pd.concat(axis=1) instead. To get a de-fragmented frame, use `newframe = frame.copy()`\n",
      "  resps.loc[0:(span-1), s] = np.array(current_response) == np.array(corr_responses)\n",
      "/Users/theodros/stag_2023/MODS_ACTR/andrea/MODS_interface_update.py:224: PerformanceWarning: DataFrame is highly fragmented.  This is usually the result of calling `frame.insert` many times, which has poor performance.  Consider joining all columns at once using pd.concat(axis=1) instead. To get a de-fragmented frame, use `newframe = frame.copy()`\n",
      "  resps.loc[0:(span-1), s] = np.array(current_response) == np.array(corr_responses)\n",
      "/Users/theodros/stag_2023/MODS_ACTR/andrea/MODS_interface_update.py:224: PerformanceWarning: DataFrame is highly fragmented.  This is usually the result of calling `frame.insert` many times, which has poor performance.  Consider joining all columns at once using pd.concat(axis=1) instead. To get a de-fragmented frame, use `newframe = frame.copy()`\n",
      "  resps.loc[0:(span-1), s] = np.array(current_response) == np.array(corr_responses)\n",
      "/Users/theodros/stag_2023/MODS_ACTR/andrea/MODS_interface_update.py:224: PerformanceWarning: DataFrame is highly fragmented.  This is usually the result of calling `frame.insert` many times, which has poor performance.  Consider joining all columns at once using pd.concat(axis=1) instead. To get a de-fragmented frame, use `newframe = frame.copy()`\n",
      "  resps.loc[0:(span-1), s] = np.array(current_response) == np.array(corr_responses)\n",
      "/Users/theodros/stag_2023/MODS_ACTR/andrea/MODS_interface_update.py:224: PerformanceWarning: DataFrame is highly fragmented.  This is usually the result of calling `frame.insert` many times, which has poor performance.  Consider joining all columns at once using pd.concat(axis=1) instead. To get a de-fragmented frame, use `newframe = frame.copy()`\n",
      "  resps.loc[0:(span-1), s] = np.array(current_response) == np.array(corr_responses)\n",
      "/Users/theodros/stag_2023/MODS_ACTR/andrea/MODS_interface_update.py:224: PerformanceWarning: DataFrame is highly fragmented.  This is usually the result of calling `frame.insert` many times, which has poor performance.  Consider joining all columns at once using pd.concat(axis=1) instead. To get a de-fragmented frame, use `newframe = frame.copy()`\n",
      "  resps.loc[0:(span-1), s] = np.array(current_response) == np.array(corr_responses)\n",
      "/Users/theodros/stag_2023/MODS_ACTR/andrea/MODS_interface_update.py:224: PerformanceWarning: DataFrame is highly fragmented.  This is usually the result of calling `frame.insert` many times, which has poor performance.  Consider joining all columns at once using pd.concat(axis=1) instead. To get a de-fragmented frame, use `newframe = frame.copy()`\n",
      "  resps.loc[0:(span-1), s] = np.array(current_response) == np.array(corr_responses)\n",
      "/Users/theodros/stag_2023/MODS_ACTR/andrea/MODS_interface_update.py:224: PerformanceWarning: DataFrame is highly fragmented.  This is usually the result of calling `frame.insert` many times, which has poor performance.  Consider joining all columns at once using pd.concat(axis=1) instead. To get a de-fragmented frame, use `newframe = frame.copy()`\n",
      "  resps.loc[0:(span-1), s] = np.array(current_response) == np.array(corr_responses)\n",
      "/Users/theodros/stag_2023/MODS_ACTR/andrea/MODS_interface_update.py:224: PerformanceWarning: DataFrame is highly fragmented.  This is usually the result of calling `frame.insert` many times, which has poor performance.  Consider joining all columns at once using pd.concat(axis=1) instead. To get a de-fragmented frame, use `newframe = frame.copy()`\n",
      "  resps.loc[0:(span-1), s] = np.array(current_response) == np.array(corr_responses)\n",
      "/Users/theodros/stag_2023/MODS_ACTR/andrea/MODS_interface_update.py:224: PerformanceWarning: DataFrame is highly fragmented.  This is usually the result of calling `frame.insert` many times, which has poor performance.  Consider joining all columns at once using pd.concat(axis=1) instead. To get a de-fragmented frame, use `newframe = frame.copy()`\n",
      "  resps.loc[0:(span-1), s] = np.array(current_response) == np.array(corr_responses)\n",
      "/Users/theodros/stag_2023/MODS_ACTR/andrea/MODS_interface_update.py:224: PerformanceWarning: DataFrame is highly fragmented.  This is usually the result of calling `frame.insert` many times, which has poor performance.  Consider joining all columns at once using pd.concat(axis=1) instead. To get a de-fragmented frame, use `newframe = frame.copy()`\n",
      "  resps.loc[0:(span-1), s] = np.array(current_response) == np.array(corr_responses)\n",
      "/Users/theodros/stag_2023/MODS_ACTR/andrea/MODS_interface_update.py:224: PerformanceWarning: DataFrame is highly fragmented.  This is usually the result of calling `frame.insert` many times, which has poor performance.  Consider joining all columns at once using pd.concat(axis=1) instead. To get a de-fragmented frame, use `newframe = frame.copy()`\n",
      "  resps.loc[0:(span-1), s] = np.array(current_response) == np.array(corr_responses)\n",
      "/Users/theodros/stag_2023/MODS_ACTR/andrea/MODS_interface_update.py:224: PerformanceWarning: DataFrame is highly fragmented.  This is usually the result of calling `frame.insert` many times, which has poor performance.  Consider joining all columns at once using pd.concat(axis=1) instead. To get a de-fragmented frame, use `newframe = frame.copy()`\n",
      "  resps.loc[0:(span-1), s] = np.array(current_response) == np.array(corr_responses)\n",
      "/Users/theodros/stag_2023/MODS_ACTR/andrea/MODS_interface_update.py:224: PerformanceWarning: DataFrame is highly fragmented.  This is usually the result of calling `frame.insert` many times, which has poor performance.  Consider joining all columns at once using pd.concat(axis=1) instead. To get a de-fragmented frame, use `newframe = frame.copy()`\n",
      "  resps.loc[0:(span-1), s] = np.array(current_response) == np.array(corr_responses)\n",
      "/Users/theodros/stag_2023/MODS_ACTR/andrea/MODS_interface_update.py:224: PerformanceWarning: DataFrame is highly fragmented.  This is usually the result of calling `frame.insert` many times, which has poor performance.  Consider joining all columns at once using pd.concat(axis=1) instead. To get a de-fragmented frame, use `newframe = frame.copy()`\n",
      "  resps.loc[0:(span-1), s] = np.array(current_response) == np.array(corr_responses)\n",
      "/Users/theodros/stag_2023/MODS_ACTR/andrea/MODS_interface_update.py:224: PerformanceWarning: DataFrame is highly fragmented.  This is usually the result of calling `frame.insert` many times, which has poor performance.  Consider joining all columns at once using pd.concat(axis=1) instead. To get a de-fragmented frame, use `newframe = frame.copy()`\n",
      "  resps.loc[0:(span-1), s] = np.array(current_response) == np.array(corr_responses)\n",
      "/Users/theodros/stag_2023/MODS_ACTR/andrea/MODS_interface_update.py:224: PerformanceWarning: DataFrame is highly fragmented.  This is usually the result of calling `frame.insert` many times, which has poor performance.  Consider joining all columns at once using pd.concat(axis=1) instead. To get a de-fragmented frame, use `newframe = frame.copy()`\n",
      "  resps.loc[0:(span-1), s] = np.array(current_response) == np.array(corr_responses)\n",
      "/Users/theodros/stag_2023/MODS_ACTR/andrea/MODS_interface_update.py:224: PerformanceWarning: DataFrame is highly fragmented.  This is usually the result of calling `frame.insert` many times, which has poor performance.  Consider joining all columns at once using pd.concat(axis=1) instead. To get a de-fragmented frame, use `newframe = frame.copy()`\n",
      "  resps.loc[0:(span-1), s] = np.array(current_response) == np.array(corr_responses)\n",
      "/Users/theodros/stag_2023/MODS_ACTR/andrea/MODS_interface_update.py:224: PerformanceWarning: DataFrame is highly fragmented.  This is usually the result of calling `frame.insert` many times, which has poor performance.  Consider joining all columns at once using pd.concat(axis=1) instead. To get a de-fragmented frame, use `newframe = frame.copy()`\n",
      "  resps.loc[0:(span-1), s] = np.array(current_response) == np.array(corr_responses)\n",
      "/Users/theodros/stag_2023/MODS_ACTR/andrea/MODS_interface_update.py:224: PerformanceWarning: DataFrame is highly fragmented.  This is usually the result of calling `frame.insert` many times, which has poor performance.  Consider joining all columns at once using pd.concat(axis=1) instead. To get a de-fragmented frame, use `newframe = frame.copy()`\n",
      "  resps.loc[0:(span-1), s] = np.array(current_response) == np.array(corr_responses)\n",
      "/Users/theodros/stag_2023/MODS_ACTR/andrea/MODS_interface_update.py:224: PerformanceWarning: DataFrame is highly fragmented.  This is usually the result of calling `frame.insert` many times, which has poor performance.  Consider joining all columns at once using pd.concat(axis=1) instead. To get a de-fragmented frame, use `newframe = frame.copy()`\n",
      "  resps.loc[0:(span-1), s] = np.array(current_response) == np.array(corr_responses)\n",
      "/Users/theodros/stag_2023/MODS_ACTR/andrea/MODS_interface_update.py:224: PerformanceWarning: DataFrame is highly fragmented.  This is usually the result of calling `frame.insert` many times, which has poor performance.  Consider joining all columns at once using pd.concat(axis=1) instead. To get a de-fragmented frame, use `newframe = frame.copy()`\n",
      "  resps.loc[0:(span-1), s] = np.array(current_response) == np.array(corr_responses)\n",
      "/Users/theodros/stag_2023/MODS_ACTR/andrea/MODS_interface_update.py:224: PerformanceWarning: DataFrame is highly fragmented.  This is usually the result of calling `frame.insert` many times, which has poor performance.  Consider joining all columns at once using pd.concat(axis=1) instead. To get a de-fragmented frame, use `newframe = frame.copy()`\n",
      "  resps.loc[0:(span-1), s] = np.array(current_response) == np.array(corr_responses)\n",
      "/Users/theodros/stag_2023/MODS_ACTR/andrea/MODS_interface_update.py:224: PerformanceWarning: DataFrame is highly fragmented.  This is usually the result of calling `frame.insert` many times, which has poor performance.  Consider joining all columns at once using pd.concat(axis=1) instead. To get a de-fragmented frame, use `newframe = frame.copy()`\n",
      "  resps.loc[0:(span-1), s] = np.array(current_response) == np.array(corr_responses)\n",
      "/Users/theodros/stag_2023/MODS_ACTR/andrea/MODS_interface_update.py:224: PerformanceWarning: DataFrame is highly fragmented.  This is usually the result of calling `frame.insert` many times, which has poor performance.  Consider joining all columns at once using pd.concat(axis=1) instead. To get a de-fragmented frame, use `newframe = frame.copy()`\n",
      "  resps.loc[0:(span-1), s] = np.array(current_response) == np.array(corr_responses)\n",
      "/Users/theodros/stag_2023/MODS_ACTR/andrea/MODS_interface_update.py:224: PerformanceWarning: DataFrame is highly fragmented.  This is usually the result of calling `frame.insert` many times, which has poor performance.  Consider joining all columns at once using pd.concat(axis=1) instead. To get a de-fragmented frame, use `newframe = frame.copy()`\n",
      "  resps.loc[0:(span-1), s] = np.array(current_response) == np.array(corr_responses)\n",
      "/Users/theodros/stag_2023/MODS_ACTR/andrea/MODS_interface_update.py:224: PerformanceWarning: DataFrame is highly fragmented.  This is usually the result of calling `frame.insert` many times, which has poor performance.  Consider joining all columns at once using pd.concat(axis=1) instead. To get a de-fragmented frame, use `newframe = frame.copy()`\n",
      "  resps.loc[0:(span-1), s] = np.array(current_response) == np.array(corr_responses)\n",
      "/Users/theodros/stag_2023/MODS_ACTR/andrea/MODS_interface_update.py:224: PerformanceWarning: DataFrame is highly fragmented.  This is usually the result of calling `frame.insert` many times, which has poor performance.  Consider joining all columns at once using pd.concat(axis=1) instead. To get a de-fragmented frame, use `newframe = frame.copy()`\n",
      "  resps.loc[0:(span-1), s] = np.array(current_response) == np.array(corr_responses)\n",
      "/Users/theodros/stag_2023/MODS_ACTR/andrea/MODS_interface_update.py:224: PerformanceWarning: DataFrame is highly fragmented.  This is usually the result of calling `frame.insert` many times, which has poor performance.  Consider joining all columns at once using pd.concat(axis=1) instead. To get a de-fragmented frame, use `newframe = frame.copy()`\n",
      "  resps.loc[0:(span-1), s] = np.array(current_response) == np.array(corr_responses)\n",
      "/Users/theodros/stag_2023/MODS_ACTR/andrea/MODS_interface_update.py:224: PerformanceWarning: DataFrame is highly fragmented.  This is usually the result of calling `frame.insert` many times, which has poor performance.  Consider joining all columns at once using pd.concat(axis=1) instead. To get a de-fragmented frame, use `newframe = frame.copy()`\n",
      "  resps.loc[0:(span-1), s] = np.array(current_response) == np.array(corr_responses)\n",
      "/Users/theodros/stag_2023/MODS_ACTR/andrea/MODS_interface_update.py:224: PerformanceWarning: DataFrame is highly fragmented.  This is usually the result of calling `frame.insert` many times, which has poor performance.  Consider joining all columns at once using pd.concat(axis=1) instead. To get a de-fragmented frame, use `newframe = frame.copy()`\n",
      "  resps.loc[0:(span-1), s] = np.array(current_response) == np.array(corr_responses)\n",
      "/Users/theodros/stag_2023/MODS_ACTR/andrea/MODS_interface_update.py:224: PerformanceWarning: DataFrame is highly fragmented.  This is usually the result of calling `frame.insert` many times, which has poor performance.  Consider joining all columns at once using pd.concat(axis=1) instead. To get a de-fragmented frame, use `newframe = frame.copy()`\n",
      "  resps.loc[0:(span-1), s] = np.array(current_response) == np.array(corr_responses)\n",
      "/Users/theodros/stag_2023/MODS_ACTR/andrea/MODS_interface_update.py:224: PerformanceWarning: DataFrame is highly fragmented.  This is usually the result of calling `frame.insert` many times, which has poor performance.  Consider joining all columns at once using pd.concat(axis=1) instead. To get a de-fragmented frame, use `newframe = frame.copy()`\n",
      "  resps.loc[0:(span-1), s] = np.array(current_response) == np.array(corr_responses)\n",
      "/Users/theodros/stag_2023/MODS_ACTR/andrea/MODS_interface_update.py:224: PerformanceWarning: DataFrame is highly fragmented.  This is usually the result of calling `frame.insert` many times, which has poor performance.  Consider joining all columns at once using pd.concat(axis=1) instead. To get a de-fragmented frame, use `newframe = frame.copy()`\n",
      "  resps.loc[0:(span-1), s] = np.array(current_response) == np.array(corr_responses)\n",
      "/Users/theodros/stag_2023/MODS_ACTR/andrea/MODS_interface_update.py:224: PerformanceWarning: DataFrame is highly fragmented.  This is usually the result of calling `frame.insert` many times, which has poor performance.  Consider joining all columns at once using pd.concat(axis=1) instead. To get a de-fragmented frame, use `newframe = frame.copy()`\n",
      "  resps.loc[0:(span-1), s] = np.array(current_response) == np.array(corr_responses)\n",
      "/Users/theodros/stag_2023/MODS_ACTR/andrea/MODS_interface_update.py:224: PerformanceWarning: DataFrame is highly fragmented.  This is usually the result of calling `frame.insert` many times, which has poor performance.  Consider joining all columns at once using pd.concat(axis=1) instead. To get a de-fragmented frame, use `newframe = frame.copy()`\n",
      "  resps.loc[0:(span-1), s] = np.array(current_response) == np.array(corr_responses)\n",
      "/Users/theodros/stag_2023/MODS_ACTR/andrea/MODS_interface_update.py:224: PerformanceWarning: DataFrame is highly fragmented.  This is usually the result of calling `frame.insert` many times, which has poor performance.  Consider joining all columns at once using pd.concat(axis=1) instead. To get a de-fragmented frame, use `newframe = frame.copy()`\n",
      "  resps.loc[0:(span-1), s] = np.array(current_response) == np.array(corr_responses)\n",
      "/Users/theodros/stag_2023/MODS_ACTR/andrea/MODS_interface_update.py:224: PerformanceWarning: DataFrame is highly fragmented.  This is usually the result of calling `frame.insert` many times, which has poor performance.  Consider joining all columns at once using pd.concat(axis=1) instead. To get a de-fragmented frame, use `newframe = frame.copy()`\n",
      "  resps.loc[0:(span-1), s] = np.array(current_response) == np.array(corr_responses)\n",
      "/Users/theodros/stag_2023/MODS_ACTR/andrea/MODS_interface_update.py:224: PerformanceWarning: DataFrame is highly fragmented.  This is usually the result of calling `frame.insert` many times, which has poor performance.  Consider joining all columns at once using pd.concat(axis=1) instead. To get a de-fragmented frame, use `newframe = frame.copy()`\n",
      "  resps.loc[0:(span-1), s] = np.array(current_response) == np.array(corr_responses)\n",
      "/Users/theodros/stag_2023/MODS_ACTR/andrea/MODS_interface_update.py:224: PerformanceWarning: DataFrame is highly fragmented.  This is usually the result of calling `frame.insert` many times, which has poor performance.  Consider joining all columns at once using pd.concat(axis=1) instead. To get a de-fragmented frame, use `newframe = frame.copy()`\n",
      "  resps.loc[0:(span-1), s] = np.array(current_response) == np.array(corr_responses)\n",
      "/Users/theodros/stag_2023/MODS_ACTR/andrea/MODS_interface_update.py:224: PerformanceWarning: DataFrame is highly fragmented.  This is usually the result of calling `frame.insert` many times, which has poor performance.  Consider joining all columns at once using pd.concat(axis=1) instead. To get a de-fragmented frame, use `newframe = frame.copy()`\n",
      "  resps.loc[0:(span-1), s] = np.array(current_response) == np.array(corr_responses)\n",
      "/Users/theodros/stag_2023/MODS_ACTR/andrea/MODS_interface_update.py:224: PerformanceWarning: DataFrame is highly fragmented.  This is usually the result of calling `frame.insert` many times, which has poor performance.  Consider joining all columns at once using pd.concat(axis=1) instead. To get a de-fragmented frame, use `newframe = frame.copy()`\n",
      "  resps.loc[0:(span-1), s] = np.array(current_response) == np.array(corr_responses)\n",
      "/Users/theodros/stag_2023/MODS_ACTR/andrea/MODS_interface_update.py:224: PerformanceWarning: DataFrame is highly fragmented.  This is usually the result of calling `frame.insert` many times, which has poor performance.  Consider joining all columns at once using pd.concat(axis=1) instead. To get a de-fragmented frame, use `newframe = frame.copy()`\n",
      "  resps.loc[0:(span-1), s] = np.array(current_response) == np.array(corr_responses)\n",
      "/Users/theodros/stag_2023/MODS_ACTR/andrea/MODS_interface_update.py:224: PerformanceWarning: DataFrame is highly fragmented.  This is usually the result of calling `frame.insert` many times, which has poor performance.  Consider joining all columns at once using pd.concat(axis=1) instead. To get a de-fragmented frame, use `newframe = frame.copy()`\n",
      "  resps.loc[0:(span-1), s] = np.array(current_response) == np.array(corr_responses)\n",
      "/Users/theodros/stag_2023/MODS_ACTR/andrea/MODS_interface_update.py:224: PerformanceWarning: DataFrame is highly fragmented.  This is usually the result of calling `frame.insert` many times, which has poor performance.  Consider joining all columns at once using pd.concat(axis=1) instead. To get a de-fragmented frame, use `newframe = frame.copy()`\n",
      "  resps.loc[0:(span-1), s] = np.array(current_response) == np.array(corr_responses)\n",
      "/Users/theodros/stag_2023/MODS_ACTR/andrea/MODS_interface_update.py:224: PerformanceWarning: DataFrame is highly fragmented.  This is usually the result of calling `frame.insert` many times, which has poor performance.  Consider joining all columns at once using pd.concat(axis=1) instead. To get a de-fragmented frame, use `newframe = frame.copy()`\n",
      "  resps.loc[0:(span-1), s] = np.array(current_response) == np.array(corr_responses)\n",
      "/Users/theodros/stag_2023/MODS_ACTR/andrea/MODS_interface_update.py:224: PerformanceWarning: DataFrame is highly fragmented.  This is usually the result of calling `frame.insert` many times, which has poor performance.  Consider joining all columns at once using pd.concat(axis=1) instead. To get a de-fragmented frame, use `newframe = frame.copy()`\n",
      "  resps.loc[0:(span-1), s] = np.array(current_response) == np.array(corr_responses)\n",
      "/Users/theodros/stag_2023/MODS_ACTR/andrea/MODS_interface_update.py:224: PerformanceWarning: DataFrame is highly fragmented.  This is usually the result of calling `frame.insert` many times, which has poor performance.  Consider joining all columns at once using pd.concat(axis=1) instead. To get a de-fragmented frame, use `newframe = frame.copy()`\n",
      "  resps.loc[0:(span-1), s] = np.array(current_response) == np.array(corr_responses)\n"
     ]
    },
    {
     "data": {
      "text/html": [
       "<div>\n",
       "<style scoped>\n",
       "    .dataframe tbody tr th:only-of-type {\n",
       "        vertical-align: middle;\n",
       "    }\n",
       "\n",
       "    .dataframe tbody tr th {\n",
       "        vertical-align: top;\n",
       "    }\n",
       "\n",
       "    .dataframe thead th {\n",
       "        text-align: right;\n",
       "    }\n",
       "</style>\n",
       "<table border=\"1\" class=\"dataframe\">\n",
       "  <thead>\n",
       "    <tr style=\"text-align: right;\">\n",
       "      <th></th>\n",
       "      <th>0</th>\n",
       "      <th>1</th>\n",
       "      <th>2</th>\n",
       "      <th>3</th>\n",
       "      <th>4</th>\n",
       "      <th>5</th>\n",
       "      <th>6</th>\n",
       "      <th>7</th>\n",
       "      <th>8</th>\n",
       "      <th>9</th>\n",
       "      <th>...</th>\n",
       "      <th>240</th>\n",
       "      <th>241</th>\n",
       "      <th>242</th>\n",
       "      <th>243</th>\n",
       "      <th>244</th>\n",
       "      <th>245</th>\n",
       "      <th>246</th>\n",
       "      <th>247</th>\n",
       "      <th>248</th>\n",
       "      <th>249</th>\n",
       "    </tr>\n",
       "  </thead>\n",
       "  <tbody>\n",
       "    <tr>\n",
       "      <th>0</th>\n",
       "      <td>True</td>\n",
       "      <td>True</td>\n",
       "      <td>True</td>\n",
       "      <td>False</td>\n",
       "      <td>True</td>\n",
       "      <td>False</td>\n",
       "      <td>True</td>\n",
       "      <td>True</td>\n",
       "      <td>True</td>\n",
       "      <td>False</td>\n",
       "      <td>...</td>\n",
       "      <td>True</td>\n",
       "      <td>True</td>\n",
       "      <td>False</td>\n",
       "      <td>True</td>\n",
       "      <td>False</td>\n",
       "      <td>True</td>\n",
       "      <td>True</td>\n",
       "      <td>True</td>\n",
       "      <td>False</td>\n",
       "      <td>True</td>\n",
       "    </tr>\n",
       "    <tr>\n",
       "      <th>1</th>\n",
       "      <td>True</td>\n",
       "      <td>False</td>\n",
       "      <td>True</td>\n",
       "      <td>True</td>\n",
       "      <td>False</td>\n",
       "      <td>False</td>\n",
       "      <td>True</td>\n",
       "      <td>False</td>\n",
       "      <td>True</td>\n",
       "      <td>False</td>\n",
       "      <td>...</td>\n",
       "      <td>False</td>\n",
       "      <td>False</td>\n",
       "      <td>False</td>\n",
       "      <td>False</td>\n",
       "      <td>False</td>\n",
       "      <td>True</td>\n",
       "      <td>True</td>\n",
       "      <td>True</td>\n",
       "      <td>True</td>\n",
       "      <td>True</td>\n",
       "    </tr>\n",
       "    <tr>\n",
       "      <th>2</th>\n",
       "      <td>True</td>\n",
       "      <td>True</td>\n",
       "      <td>False</td>\n",
       "      <td>False</td>\n",
       "      <td>True</td>\n",
       "      <td>False</td>\n",
       "      <td>False</td>\n",
       "      <td>True</td>\n",
       "      <td>True</td>\n",
       "      <td>False</td>\n",
       "      <td>...</td>\n",
       "      <td>True</td>\n",
       "      <td>True</td>\n",
       "      <td>True</td>\n",
       "      <td>True</td>\n",
       "      <td>True</td>\n",
       "      <td>True</td>\n",
       "      <td>True</td>\n",
       "      <td>True</td>\n",
       "      <td>True</td>\n",
       "      <td>True</td>\n",
       "    </tr>\n",
       "    <tr>\n",
       "      <th>3</th>\n",
       "      <td>True</td>\n",
       "      <td>True</td>\n",
       "      <td>True</td>\n",
       "      <td>False</td>\n",
       "      <td>True</td>\n",
       "      <td>True</td>\n",
       "      <td>False</td>\n",
       "      <td>False</td>\n",
       "      <td>True</td>\n",
       "      <td>True</td>\n",
       "      <td>...</td>\n",
       "      <td>True</td>\n",
       "      <td>True</td>\n",
       "      <td>True</td>\n",
       "      <td>True</td>\n",
       "      <td>False</td>\n",
       "      <td>True</td>\n",
       "      <td>True</td>\n",
       "      <td>True</td>\n",
       "      <td>True</td>\n",
       "      <td>True</td>\n",
       "    </tr>\n",
       "    <tr>\n",
       "      <th>4</th>\n",
       "      <td>True</td>\n",
       "      <td>True</td>\n",
       "      <td>True</td>\n",
       "      <td>True</td>\n",
       "      <td>True</td>\n",
       "      <td>True</td>\n",
       "      <td>True</td>\n",
       "      <td>False</td>\n",
       "      <td>True</td>\n",
       "      <td>True</td>\n",
       "      <td>...</td>\n",
       "      <td>True</td>\n",
       "      <td>False</td>\n",
       "      <td>True</td>\n",
       "      <td>False</td>\n",
       "      <td>True</td>\n",
       "      <td>True</td>\n",
       "      <td>True</td>\n",
       "      <td>True</td>\n",
       "      <td>True</td>\n",
       "      <td>True</td>\n",
       "    </tr>\n",
       "    <tr>\n",
       "      <th>5</th>\n",
       "      <td>True</td>\n",
       "      <td>True</td>\n",
       "      <td>True</td>\n",
       "      <td>True</td>\n",
       "      <td>True</td>\n",
       "      <td>True</td>\n",
       "      <td>True</td>\n",
       "      <td>True</td>\n",
       "      <td>True</td>\n",
       "      <td>True</td>\n",
       "      <td>...</td>\n",
       "      <td>True</td>\n",
       "      <td>True</td>\n",
       "      <td>True</td>\n",
       "      <td>True</td>\n",
       "      <td>True</td>\n",
       "      <td>True</td>\n",
       "      <td>False</td>\n",
       "      <td>True</td>\n",
       "      <td>True</td>\n",
       "      <td>True</td>\n",
       "    </tr>\n",
       "  </tbody>\n",
       "</table>\n",
       "<p>6 rows × 250 columns</p>\n",
       "</div>"
      ],
      "text/plain": [
       "    0      1      2      3      4      5      6      7     8      9    ...  \\\n",
       "0  True   True   True  False   True  False   True   True  True  False  ...   \n",
       "1  True  False   True   True  False  False   True  False  True  False  ...   \n",
       "2  True   True  False  False   True  False  False   True  True  False  ...   \n",
       "3  True   True   True  False   True   True  False  False  True   True  ...   \n",
       "4  True   True   True   True   True   True   True  False  True   True  ...   \n",
       "5  True   True   True   True   True   True   True   True  True   True  ...   \n",
       "\n",
       "     240    241    242    243    244   245    246   247    248   249  \n",
       "0   True   True  False   True  False  True   True  True  False  True  \n",
       "1  False  False  False  False  False  True   True  True   True  True  \n",
       "2   True   True   True   True   True  True   True  True   True  True  \n",
       "3   True   True   True   True  False  True   True  True   True  True  \n",
       "4   True  False   True  False   True  True   True  True   True  True  \n",
       "5   True   True   True   True   True  True  False  True   True  True  \n",
       "\n",
       "[6 rows x 250 columns]"
      ]
     },
     "execution_count": 2,
     "metadata": {},
     "output_type": "execute_result"
    }
   ],
   "source": [
    "md.simulation(250, stims[6], 0.2)\n"
   ]
  },
  {
   "cell_type": "code",
   "execution_count": null,
   "id": "e94062da-a9c2-4b33-9fb4-da043dab8a0d",
   "metadata": {},
   "outputs": [],
   "source": [
    "actr.whynot('check-memory')\n",
    "md.in_Position"
   ]
  },
  {
   "cell_type": "code",
   "execution_count": null,
   "id": "81239232-0ffd-45d7-b646-85fbaaf8c6f1",
   "metadata": {},
   "outputs": [],
   "source": [
    "print(md.current_response)\n",
    "print(md.stims[md.i])\n",
    "print(md.corr_responses)\n",
    "print(md.in_Position[md.i])\n",
    "print(md.of_Type[md.i])\n",
    "print(md.Pos_word[md.i])\n",
    "print(md.i)\n",
    "print(md.cr)\n"
   ]
  },
  {
   "cell_type": "code",
   "execution_count": 5,
   "id": "8cbc8f09-4e4e-45c5-9958-38c149e6b969",
   "metadata": {},
   "outputs": [
    {
     "data": {
      "text/plain": [
       "<AxesSubplot:xlabel='serial position', ylabel='accuracy'>"
      ]
     },
     "execution_count": 5,
     "metadata": {},
     "output_type": "execute_result"
    },
    {
     "data": {
      "image/png": "[encoded data removed]",
      "text/plain": [
       "<Figure size 432x288 with 1 Axes>"
      ]
     },
     "metadata": {
      "needs_background": "light"
     },
     "output_type": "display_data"
    },
    {
     "name": "stdout",
     "output_type": "stream",
     "text": [
      "#|Warning: Cannot create a new module when there are models defined. |#\n",
      "#|Warning: Parameter :EBLSE is not the name of an available parameter |#\n"
     ]
    }
   ],
   "source": [
    "md.resps.mean(axis=1).plot(ylim=(0.4,1), xlabel='serial position', ylabel='accuracy')\n",
    "#md.resps"
   ]
  },
  {
   "cell_type": "code",
   "execution_count": null,
   "id": "d15c968d-5bef-45c6-8425-bf852a5686b5",
   "metadata": {},
   "outputs": [],
   "source": [
    "span_acc"
   ]
  },
  {
   "cell_type": "code",
   "execution_count": 2,
   "id": "1729bd4f-428f-4078-9abc-f7bb1dcc5c79",
   "metadata": {
    "collapsed": true,
    "jupyter": {
     "outputs_hidden": true
    },
    "tags": []
   },
   "outputs": [
    {
     "name": "stdout",
     "output_type": "stream",
     "text": [
      "3\n"
     ]
    },
    {
     "name": "stderr",
     "output_type": "stream",
     "text": [
      "<ipython-input-2-bf09f5c6cca0>:9: FutureWarning: The default value of numeric_only in DataFrame.mean is deprecated. In a future version, it will default to False. In addition, specifying 'numeric_only=None' is deprecated. Select only valid columns or specify the value of numeric_only to silence this warning.\n",
      "  span_temp = md.resps.mean().mean()\n",
      "<ipython-input-2-bf09f5c6cca0>:10: FutureWarning: The default value of numeric_only in DataFrame.mean is deprecated. In a future version, it will default to False. In addition, specifying 'numeric_only=None' is deprecated. Select only valid columns or specify the value of numeric_only to silence this warning.\n",
      "  serial_temp = md.resps.transpose().mean()\n",
      "<ipython-input-2-bf09f5c6cca0>:9: FutureWarning: The default value of numeric_only in DataFrame.mean is deprecated. In a future version, it will default to False. In addition, specifying 'numeric_only=None' is deprecated. Select only valid columns or specify the value of numeric_only to silence this warning.\n",
      "  span_temp = md.resps.mean().mean()\n",
      "<ipython-input-2-bf09f5c6cca0>:10: FutureWarning: The default value of numeric_only in DataFrame.mean is deprecated. In a future version, it will default to False. In addition, specifying 'numeric_only=None' is deprecated. Select only valid columns or specify the value of numeric_only to silence this warning.\n",
      "  serial_temp = md.resps.transpose().mean()\n",
      "<ipython-input-2-bf09f5c6cca0>:9: FutureWarning: The default value of numeric_only in DataFrame.mean is deprecated. In a future version, it will default to False. In addition, specifying 'numeric_only=None' is deprecated. Select only valid columns or specify the value of numeric_only to silence this warning.\n",
      "  span_temp = md.resps.mean().mean()\n",
      "<ipython-input-2-bf09f5c6cca0>:10: FutureWarning: The default value of numeric_only in DataFrame.mean is deprecated. In a future version, it will default to False. In addition, specifying 'numeric_only=None' is deprecated. Select only valid columns or specify the value of numeric_only to silence this warning.\n",
      "  serial_temp = md.resps.transpose().mean()\n",
      "<ipython-input-2-bf09f5c6cca0>:9: FutureWarning: The default value of numeric_only in DataFrame.mean is deprecated. In a future version, it will default to False. In addition, specifying 'numeric_only=None' is deprecated. Select only valid columns or specify the value of numeric_only to silence this warning.\n",
      "  span_temp = md.resps.mean().mean()\n",
      "<ipython-input-2-bf09f5c6cca0>:10: FutureWarning: The default value of numeric_only in DataFrame.mean is deprecated. In a future version, it will default to False. In addition, specifying 'numeric_only=None' is deprecated. Select only valid columns or specify the value of numeric_only to silence this warning.\n",
      "  serial_temp = md.resps.transpose().mean()\n",
      "<ipython-input-2-bf09f5c6cca0>:9: FutureWarning: The default value of numeric_only in DataFrame.mean is deprecated. In a future version, it will default to False. In addition, specifying 'numeric_only=None' is deprecated. Select only valid columns or specify the value of numeric_only to silence this warning.\n",
      "  span_temp = md.resps.mean().mean()\n",
      "<ipython-input-2-bf09f5c6cca0>:10: FutureWarning: The default value of numeric_only in DataFrame.mean is deprecated. In a future version, it will default to False. In addition, specifying 'numeric_only=None' is deprecated. Select only valid columns or specify the value of numeric_only to silence this warning.\n",
      "  serial_temp = md.resps.transpose().mean()\n",
      "<ipython-input-2-bf09f5c6cca0>:9: FutureWarning: The default value of numeric_only in DataFrame.mean is deprecated. In a future version, it will default to False. In addition, specifying 'numeric_only=None' is deprecated. Select only valid columns or specify the value of numeric_only to silence this warning.\n",
      "  span_temp = md.resps.mean().mean()\n",
      "<ipython-input-2-bf09f5c6cca0>:10: FutureWarning: The default value of numeric_only in DataFrame.mean is deprecated. In a future version, it will default to False. In addition, specifying 'numeric_only=None' is deprecated. Select only valid columns or specify the value of numeric_only to silence this warning.\n",
      "  serial_temp = md.resps.transpose().mean()\n",
      "<ipython-input-2-bf09f5c6cca0>:9: FutureWarning: The default value of numeric_only in DataFrame.mean is deprecated. In a future version, it will default to False. In addition, specifying 'numeric_only=None' is deprecated. Select only valid columns or specify the value of numeric_only to silence this warning.\n",
      "  span_temp = md.resps.mean().mean()\n",
      "<ipython-input-2-bf09f5c6cca0>:10: FutureWarning: The default value of numeric_only in DataFrame.mean is deprecated. In a future version, it will default to False. In addition, specifying 'numeric_only=None' is deprecated. Select only valid columns or specify the value of numeric_only to silence this warning.\n",
      "  serial_temp = md.resps.transpose().mean()\n"
     ]
    },
    {
     "name": "stdout",
     "output_type": "stream",
     "text": [
      "4\n"
     ]
    },
    {
     "name": "stderr",
     "output_type": "stream",
     "text": [
      "<ipython-input-2-bf09f5c6cca0>:9: FutureWarning: The default value of numeric_only in DataFrame.mean is deprecated. In a future version, it will default to False. In addition, specifying 'numeric_only=None' is deprecated. Select only valid columns or specify the value of numeric_only to silence this warning.\n",
      "  span_temp = md.resps.mean().mean()\n",
      "<ipython-input-2-bf09f5c6cca0>:10: FutureWarning: The default value of numeric_only in DataFrame.mean is deprecated. In a future version, it will default to False. In addition, specifying 'numeric_only=None' is deprecated. Select only valid columns or specify the value of numeric_only to silence this warning.\n",
      "  serial_temp = md.resps.transpose().mean()\n",
      "<ipython-input-2-bf09f5c6cca0>:9: FutureWarning: The default value of numeric_only in DataFrame.mean is deprecated. In a future version, it will default to False. In addition, specifying 'numeric_only=None' is deprecated. Select only valid columns or specify the value of numeric_only to silence this warning.\n",
      "  span_temp = md.resps.mean().mean()\n",
      "<ipython-input-2-bf09f5c6cca0>:10: FutureWarning: The default value of numeric_only in DataFrame.mean is deprecated. In a future version, it will default to False. In addition, specifying 'numeric_only=None' is deprecated. Select only valid columns or specify the value of numeric_only to silence this warning.\n",
      "  serial_temp = md.resps.transpose().mean()\n",
      "<ipython-input-2-bf09f5c6cca0>:9: FutureWarning: The default value of numeric_only in DataFrame.mean is deprecated. In a future version, it will default to False. In addition, specifying 'numeric_only=None' is deprecated. Select only valid columns or specify the value of numeric_only to silence this warning.\n",
      "  span_temp = md.resps.mean().mean()\n",
      "<ipython-input-2-bf09f5c6cca0>:10: FutureWarning: The default value of numeric_only in DataFrame.mean is deprecated. In a future version, it will default to False. In addition, specifying 'numeric_only=None' is deprecated. Select only valid columns or specify the value of numeric_only to silence this warning.\n",
      "  serial_temp = md.resps.transpose().mean()\n",
      "<ipython-input-2-bf09f5c6cca0>:9: FutureWarning: The default value of numeric_only in DataFrame.mean is deprecated. In a future version, it will default to False. In addition, specifying 'numeric_only=None' is deprecated. Select only valid columns or specify the value of numeric_only to silence this warning.\n",
      "  span_temp = md.resps.mean().mean()\n",
      "<ipython-input-2-bf09f5c6cca0>:10: FutureWarning: The default value of numeric_only in DataFrame.mean is deprecated. In a future version, it will default to False. In addition, specifying 'numeric_only=None' is deprecated. Select only valid columns or specify the value of numeric_only to silence this warning.\n",
      "  serial_temp = md.resps.transpose().mean()\n",
      "<ipython-input-2-bf09f5c6cca0>:9: FutureWarning: The default value of numeric_only in DataFrame.mean is deprecated. In a future version, it will default to False. In addition, specifying 'numeric_only=None' is deprecated. Select only valid columns or specify the value of numeric_only to silence this warning.\n",
      "  span_temp = md.resps.mean().mean()\n",
      "<ipython-input-2-bf09f5c6cca0>:10: FutureWarning: The default value of numeric_only in DataFrame.mean is deprecated. In a future version, it will default to False. In addition, specifying 'numeric_only=None' is deprecated. Select only valid columns or specify the value of numeric_only to silence this warning.\n",
      "  serial_temp = md.resps.transpose().mean()\n",
      "<ipython-input-2-bf09f5c6cca0>:9: FutureWarning: The default value of numeric_only in DataFrame.mean is deprecated. In a future version, it will default to False. In addition, specifying 'numeric_only=None' is deprecated. Select only valid columns or specify the value of numeric_only to silence this warning.\n",
      "  span_temp = md.resps.mean().mean()\n",
      "<ipython-input-2-bf09f5c6cca0>:10: FutureWarning: The default value of numeric_only in DataFrame.mean is deprecated. In a future version, it will default to False. In addition, specifying 'numeric_only=None' is deprecated. Select only valid columns or specify the value of numeric_only to silence this warning.\n",
      "  serial_temp = md.resps.transpose().mean()\n",
      "<ipython-input-2-bf09f5c6cca0>:9: FutureWarning: The default value of numeric_only in DataFrame.mean is deprecated. In a future version, it will default to False. In addition, specifying 'numeric_only=None' is deprecated. Select only valid columns or specify the value of numeric_only to silence this warning.\n",
      "  span_temp = md.resps.mean().mean()\n",
      "<ipython-input-2-bf09f5c6cca0>:10: FutureWarning: The default value of numeric_only in DataFrame.mean is deprecated. In a future version, it will default to False. In addition, specifying 'numeric_only=None' is deprecated. Select only valid columns or specify the value of numeric_only to silence this warning.\n",
      "  serial_temp = md.resps.transpose().mean()\n"
     ]
    },
    {
     "name": "stdout",
     "output_type": "stream",
     "text": [
      "5\n"
     ]
    },
    {
     "name": "stderr",
     "output_type": "stream",
     "text": [
      "<ipython-input-2-bf09f5c6cca0>:9: FutureWarning: The default value of numeric_only in DataFrame.mean is deprecated. In a future version, it will default to False. In addition, specifying 'numeric_only=None' is deprecated. Select only valid columns or specify the value of numeric_only to silence this warning.\n",
      "  span_temp = md.resps.mean().mean()\n",
      "<ipython-input-2-bf09f5c6cca0>:10: FutureWarning: The default value of numeric_only in DataFrame.mean is deprecated. In a future version, it will default to False. In addition, specifying 'numeric_only=None' is deprecated. Select only valid columns or specify the value of numeric_only to silence this warning.\n",
      "  serial_temp = md.resps.transpose().mean()\n",
      "<ipython-input-2-bf09f5c6cca0>:9: FutureWarning: The default value of numeric_only in DataFrame.mean is deprecated. In a future version, it will default to False. In addition, specifying 'numeric_only=None' is deprecated. Select only valid columns or specify the value of numeric_only to silence this warning.\n",
      "  span_temp = md.resps.mean().mean()\n",
      "<ipython-input-2-bf09f5c6cca0>:10: FutureWarning: The default value of numeric_only in DataFrame.mean is deprecated. In a future version, it will default to False. In addition, specifying 'numeric_only=None' is deprecated. Select only valid columns or specify the value of numeric_only to silence this warning.\n",
      "  serial_temp = md.resps.transpose().mean()\n",
      "<ipython-input-2-bf09f5c6cca0>:9: FutureWarning: The default value of numeric_only in DataFrame.mean is deprecated. In a future version, it will default to False. In addition, specifying 'numeric_only=None' is deprecated. Select only valid columns or specify the value of numeric_only to silence this warning.\n",
      "  span_temp = md.resps.mean().mean()\n",
      "<ipython-input-2-bf09f5c6cca0>:10: FutureWarning: The default value of numeric_only in DataFrame.mean is deprecated. In a future version, it will default to False. In addition, specifying 'numeric_only=None' is deprecated. Select only valid columns or specify the value of numeric_only to silence this warning.\n",
      "  serial_temp = md.resps.transpose().mean()\n",
      "<ipython-input-2-bf09f5c6cca0>:9: FutureWarning: The default value of numeric_only in DataFrame.mean is deprecated. In a future version, it will default to False. In addition, specifying 'numeric_only=None' is deprecated. Select only valid columns or specify the value of numeric_only to silence this warning.\n",
      "  span_temp = md.resps.mean().mean()\n",
      "<ipython-input-2-bf09f5c6cca0>:10: FutureWarning: The default value of numeric_only in DataFrame.mean is deprecated. In a future version, it will default to False. In addition, specifying 'numeric_only=None' is deprecated. Select only valid columns or specify the value of numeric_only to silence this warning.\n",
      "  serial_temp = md.resps.transpose().mean()\n",
      "<ipython-input-2-bf09f5c6cca0>:9: FutureWarning: The default value of numeric_only in DataFrame.mean is deprecated. In a future version, it will default to False. In addition, specifying 'numeric_only=None' is deprecated. Select only valid columns or specify the value of numeric_only to silence this warning.\n",
      "  span_temp = md.resps.mean().mean()\n",
      "<ipython-input-2-bf09f5c6cca0>:10: FutureWarning: The default value of numeric_only in DataFrame.mean is deprecated. In a future version, it will default to False. In addition, specifying 'numeric_only=None' is deprecated. Select only valid columns or specify the value of numeric_only to silence this warning.\n",
      "  serial_temp = md.resps.transpose().mean()\n",
      "<ipython-input-2-bf09f5c6cca0>:9: FutureWarning: The default value of numeric_only in DataFrame.mean is deprecated. In a future version, it will default to False. In addition, specifying 'numeric_only=None' is deprecated. Select only valid columns or specify the value of numeric_only to silence this warning.\n",
      "  span_temp = md.resps.mean().mean()\n",
      "<ipython-input-2-bf09f5c6cca0>:10: FutureWarning: The default value of numeric_only in DataFrame.mean is deprecated. In a future version, it will default to False. In addition, specifying 'numeric_only=None' is deprecated. Select only valid columns or specify the value of numeric_only to silence this warning.\n",
      "  serial_temp = md.resps.transpose().mean()\n",
      "<ipython-input-2-bf09f5c6cca0>:9: FutureWarning: The default value of numeric_only in DataFrame.mean is deprecated. In a future version, it will default to False. In addition, specifying 'numeric_only=None' is deprecated. Select only valid columns or specify the value of numeric_only to silence this warning.\n",
      "  span_temp = md.resps.mean().mean()\n",
      "<ipython-input-2-bf09f5c6cca0>:10: FutureWarning: The default value of numeric_only in DataFrame.mean is deprecated. In a future version, it will default to False. In addition, specifying 'numeric_only=None' is deprecated. Select only valid columns or specify the value of numeric_only to silence this warning.\n",
      "  serial_temp = md.resps.transpose().mean()\n"
     ]
    },
    {
     "name": "stdout",
     "output_type": "stream",
     "text": [
      "6\n",
      "#|## ACT-R has been Reset ##|#\n"
     ]
    }
   ],
   "source": [
    "span_acc=pd.DataFrame({0:np.repeat('NaN',6)})\n",
    "serial_acc = pd.DataFrame({0:np.repeat('NaN',6)})\n",
    "p=0\n",
    "for x in [3,4,5,6]:\n",
    "    s=0\n",
    "    print(x)\n",
    "    for y in [0.5, 1, 1.5, 2, 2.5, 3, 3.5]:\n",
    "        md.simulation(100, stims[x], y)\n",
    "        span_temp = md.resps.mean().mean()\n",
    "        serial_temp = md.resps.transpose().mean()\n",
    "        span_acc.loc[x,s]= span_temp\n",
    "        serial_acc.loc[0:x-1, p] = serial_temp\n",
    "        s+=1\n",
    "        p+=1\n",
    "    "
   ]
  },
  {
   "cell_type": "code",
   "execution_count": 3,
   "id": "a63494e4-6b4b-481f-9d48-762216505fc6",
   "metadata": {
    "tags": []
   },
   "outputs": [
    {
     "data": {
      "image/png": "[encoded data removed]",
      "text/plain": [
       "<Figure size 432x288 with 1 Axes>"
      ]
     },
     "metadata": {
      "needs_background": "light"
     },
     "output_type": "display_data"
    }
   ],
   "source": [
    "for i in [3,4,5,6]:\n",
    "    span_acc.dropna().loc[i].plot( xlabel='MAS', ylabel='accuracy', legend=True) # IMAG=0.5"
   ]
  },
  {
   "cell_type": "code",
   "execution_count": null,
   "id": "4ad2f792-ffbb-409c-aec8-272c4b13a084",
   "metadata": {},
   "outputs": [],
   "source": [
    "for i in [3,4,5,6]:\n",
    "    span_acc.dropna().loc[i].plot( xlabel='MAS', ylabel='accuracy', legend=True) #IMAG 1\n"
   ]
  },
  {
   "cell_type": "code",
   "execution_count": null,
   "id": "48883562-948d-479f-aaec-7898755da223",
   "metadata": {},
   "outputs": [],
   "source": [
    "for i in [3,4,5,6]:\n",
    "    span_acc.dropna().loc[i].plot( xlabel='MAS', ylabel='accuracy', legend=True) #IMAG 3\n"
   ]
  },
  {
   "cell_type": "code",
   "execution_count": null,
   "id": "83bfb898-c6b8-44f1-a90d-9596980bbdb6",
   "metadata": {},
   "outputs": [],
   "source": [
    "for i in [3,4,5,6]:\n",
    "    span_acc.dropna().loc[i].plot( xlabel='MAS', ylabel='accuracy', legend=True) #IMAG 4\n"
   ]
  },
  {
   "cell_type": "code",
   "execution_count": null,
   "id": "f4022f1c-d9ec-41ed-874d-3fbc9e6ee70d",
   "metadata": {},
   "outputs": [],
   "source": [
    "for i in [3,4,5,6]:\n",
    "    span_acc.dropna().loc[i].plot( xlabel='MAS', ylabel='accuracy', legend=True) #IMAG 0\n"
   ]
  },
  {
   "cell_type": "code",
   "execution_count": 2,
   "id": "e78a8f5f-a0fa-45e3-b442-50248fc2d8a7",
   "metadata": {
    "tags": []
   },
   "outputs": [
    {
     "name": "stderr",
     "output_type": "stream",
     "text": [
      "<ipython-input-2-e62ea3149c13>:7: FutureWarning: The default value of numeric_only in DataFrame.mean is deprecated. In a future version, it will default to False. In addition, specifying 'numeric_only=None' is deprecated. Select only valid columns or specify the value of numeric_only to silence this warning.\n",
      "  span_temp = md.resps.mean().mean()\n",
      "<ipython-input-2-e62ea3149c13>:8: FutureWarning: The default value of numeric_only in DataFrame.mean is deprecated. In a future version, it will default to False. In addition, specifying 'numeric_only=None' is deprecated. Select only valid columns or specify the value of numeric_only to silence this warning.\n",
      "  serial_temp = md.resps.transpose().mean()\n",
      "<ipython-input-2-e62ea3149c13>:7: FutureWarning: The default value of numeric_only in DataFrame.mean is deprecated. In a future version, it will default to False. In addition, specifying 'numeric_only=None' is deprecated. Select only valid columns or specify the value of numeric_only to silence this warning.\n",
      "  span_temp = md.resps.mean().mean()\n",
      "<ipython-input-2-e62ea3149c13>:8: FutureWarning: The default value of numeric_only in DataFrame.mean is deprecated. In a future version, it will default to False. In addition, specifying 'numeric_only=None' is deprecated. Select only valid columns or specify the value of numeric_only to silence this warning.\n",
      "  serial_temp = md.resps.transpose().mean()\n",
      "<ipython-input-2-e62ea3149c13>:7: FutureWarning: The default value of numeric_only in DataFrame.mean is deprecated. In a future version, it will default to False. In addition, specifying 'numeric_only=None' is deprecated. Select only valid columns or specify the value of numeric_only to silence this warning.\n",
      "  span_temp = md.resps.mean().mean()\n",
      "<ipython-input-2-e62ea3149c13>:8: FutureWarning: The default value of numeric_only in DataFrame.mean is deprecated. In a future version, it will default to False. In addition, specifying 'numeric_only=None' is deprecated. Select only valid columns or specify the value of numeric_only to silence this warning.\n",
      "  serial_temp = md.resps.transpose().mean()\n"
     ]
    }
   ],
   "source": [
    "span_acc=pd.DataFrame({0:np.repeat('NaN',6)})\n",
    "serial_acc = pd.DataFrame({0:np.repeat('NaN',6)})\n",
    "p=0\n",
    "for x in [3,4,5,6]:\n",
    "    s=0\n",
    "    md.simulation(100, stims[x], 0.5)\n",
    "    span_temp = md.resps.mean().mean()\n",
    "    serial_temp = md.resps.transpose().mean()\n",
    "    span_acc.loc[x,s]= span_temp\n",
    "    serial_acc.loc[0:x-1, p] = serial_temp\n",
    "    s+=1\n",
    "    p+=1"
   ]
  },
  {
   "cell_type": "code",
   "execution_count": 5,
   "id": "e505d3c3-87be-4e0d-a92a-c31cf88c44a6",
   "metadata": {},
   "outputs": [
    {
     "name": "stderr",
     "output_type": "stream",
     "text": [
      "<ipython-input-5-914941d997ca>:1: FutureWarning: Dropping of nuisance columns in DataFrame reductions (with 'numeric_only=None') is deprecated; in a future version this will raise TypeError.  Select only valid columns before calling the reduction.\n",
      "  serial_acc.mean(axis=1).plot(ylim=(0.4,1), xlabel='serial_position', ylabel='accuracy') #mas 1\n"
     ]
    },
    {
     "data": {
      "text/plain": [
       "<AxesSubplot:xlabel='serial_position', ylabel='accuracy'>"
      ]
     },
     "execution_count": 5,
     "metadata": {},
     "output_type": "execute_result"
    },
    {
     "data": {
      "image/png": "[encoded data removed]",
      "text/plain": [
       "<Figure size 432x288 with 1 Axes>"
      ]
     },
     "metadata": {
      "needs_background": "light"
     },
     "output_type": "display_data"
    }
   ],
   "source": [
    "serial_acc.mean(axis=1).plot(ylim=(0.4,1), xlabel='serial_position', ylabel='accuracy') #mas 1"
   ]
  },
  {
   "cell_type": "code",
   "execution_count": 3,
   "id": "ba6904ee-217b-4cb7-a20b-a7d62ff3e67a",
   "metadata": {},
   "outputs": [
    {
     "data": {
      "text/html": [
       "<div>\n",
       "<style scoped>\n",
       "    .dataframe tbody tr th:only-of-type {\n",
       "        vertical-align: middle;\n",
       "    }\n",
       "\n",
       "    .dataframe tbody tr th {\n",
       "        vertical-align: top;\n",
       "    }\n",
       "\n",
       "    .dataframe thead th {\n",
       "        text-align: right;\n",
       "    }\n",
       "</style>\n",
       "<table border=\"1\" class=\"dataframe\">\n",
       "  <thead>\n",
       "    <tr style=\"text-align: right;\">\n",
       "      <th></th>\n",
       "      <th>0</th>\n",
       "      <th>1</th>\n",
       "      <th>2</th>\n",
       "      <th>3</th>\n",
       "    </tr>\n",
       "  </thead>\n",
       "  <tbody>\n",
       "    <tr>\n",
       "      <th>0</th>\n",
       "      <td>0.98</td>\n",
       "      <td>0.91</td>\n",
       "      <td>0.84</td>\n",
       "      <td>0.66</td>\n",
       "    </tr>\n",
       "    <tr>\n",
       "      <th>1</th>\n",
       "      <td>1.0</td>\n",
       "      <td>0.94</td>\n",
       "      <td>0.89</td>\n",
       "      <td>0.75</td>\n",
       "    </tr>\n",
       "    <tr>\n",
       "      <th>2</th>\n",
       "      <td>0.99</td>\n",
       "      <td>0.96</td>\n",
       "      <td>0.90</td>\n",
       "      <td>0.81</td>\n",
       "    </tr>\n",
       "    <tr>\n",
       "      <th>3</th>\n",
       "      <td>NaN</td>\n",
       "      <td>1.00</td>\n",
       "      <td>0.92</td>\n",
       "      <td>0.81</td>\n",
       "    </tr>\n",
       "    <tr>\n",
       "      <th>4</th>\n",
       "      <td>NaN</td>\n",
       "      <td>NaN</td>\n",
       "      <td>0.94</td>\n",
       "      <td>0.88</td>\n",
       "    </tr>\n",
       "    <tr>\n",
       "      <th>5</th>\n",
       "      <td>NaN</td>\n",
       "      <td>NaN</td>\n",
       "      <td>NaN</td>\n",
       "      <td>0.87</td>\n",
       "    </tr>\n",
       "  </tbody>\n",
       "</table>\n",
       "</div>"
      ],
      "text/plain": [
       "      0     1     2     3\n",
       "0  0.98  0.91  0.84  0.66\n",
       "1   1.0  0.94  0.89  0.75\n",
       "2  0.99  0.96  0.90  0.81\n",
       "3   NaN  1.00  0.92  0.81\n",
       "4   NaN   NaN  0.94  0.88\n",
       "5   NaN   NaN   NaN  0.87"
      ]
     },
     "execution_count": 3,
     "metadata": {},
     "output_type": "execute_result"
    }
   ],
   "source": [
    "serial_acc"
   ]
  },
  {
   "cell_type": "code",
   "execution_count": null,
   "id": "7c113007-4ca5-4319-9554-614e7d82d5d4",
   "metadata": {
    "tags": []
   },
   "outputs": [],
   "source": [
    "for i in [0,1,2,3,4,5,6]:\n",
    "    span_acc.dropna().transpose().loc[i].plot( xlabel='span', ylabel='accuracy')"
   ]
  },
  {
   "cell_type": "code",
   "execution_count": null,
   "id": "b65e33a0-bbbf-49c7-b158-e2ab53160a02",
   "metadata": {},
   "outputs": [],
   "source": [
    "span_acc.dropna().plot(x=[3,4,5,6], y=[0,1,2,3], xlabel='span', ylabel='accuracy',kind='scatter')"
   ]
  },
  {
   "cell_type": "code",
   "execution_count": null,
   "id": "fa0198ca-8b84-4c7b-b1b8-099a4825db27",
   "metadata": {},
   "outputs": [],
   "source": [
    "span_acc.loc[0,0]=0.5\n",
    "span_acc.loc[1,3]=0.3\n",
    "span_acc"
   ]
  },
  {
   "cell_type": "code",
   "execution_count": null,
   "id": "4582bdf6-6cec-4f83-acb7-1aabdb26c483",
   "metadata": {},
   "outputs": [],
   "source": [
    "print(md.stims)\n",
    "print(md.in_Position)\n",
    "print(md.Pos_word)"
   ]
  },
  {
   "cell_type": "code",
   "execution_count": null,
   "id": "d7f5e4b3-38c3-464d-89ee-9d93eef9fa09",
   "metadata": {},
   "outputs": [],
   "source": [
    "print(md.current_response)\n",
    "print(md.corr_responses)"
   ]
  },
  {
   "cell_type": "code",
   "execution_count": null,
   "id": "cb7f3648-862d-4155-90d1-18d71678116d",
   "metadata": {},
   "outputs": [],
   "source": [
    "hlp=[1,2,3,4,5,6]\n",
    "hlp.reverse()\n",
    "hlp"
   ]
  }
 ],
 "metadata": {
  "kernelspec": {
   "display_name": "Python 3",
   "language": "python",
   "name": "python3"
  },
  "language_info": {
   "codemirror_mode": {
    "name": "ipython",
    "version": 3
   },
   "file_extension": ".py",
   "mimetype": "text/x-python",
   "name": "python",
   "nbconvert_exporter": "python",
   "pygments_lexer": "ipython3",
   "version": "3.9.17"
  }
 },
 "nbformat": 4,
 "nbformat_minor": 5
}
