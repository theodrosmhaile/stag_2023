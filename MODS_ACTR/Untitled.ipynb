{
 "cells": [
  {
   "cell_type": "code",
   "execution_count": 1,
   "id": "af9cbe35-9f2b-4a25-aa68-710109a21dbe",
   "metadata": {},
   "outputs": [
    {
     "name": "stdout",
     "output_type": "stream",
     "text": [
      "ACT-R connection has been started.\n"
     ]
    }
   ],
   "source": [
    "import random as rnd\n",
    "import numpy as np\n",
    "import os\n",
    "import sys\n",
    "import string\n",
    "import actr\n",
    "import pandas as pd\n",
    "import seaborn as sns \n",
    "from matplotlib import pyplot\n",
    "import itertools\n"
   ]
  },
  {
   "cell_type": "code",
   "execution_count": 9,
   "id": "99a09293-8572-4f0c-a95d-bc65a21abfee",
   "metadata": {},
   "outputs": [
    {
     "name": "stdout",
     "output_type": "stream",
     "text": [
      "#|Warning: Parameter :ERA is not the name of an available parameter |#\n",
      "#|Warning: Parameter :SL is not the name of an available parameter |#\n",
      "#|Warning: Parameter :AN is not the name of an available parameter |#\n",
      "#|Warning: Parameter :PM is not the name of an available parameter |#\n",
      "#|Warning: Parameter :DMT is not the name of an available parameter |#\n",
      "#|Warning: Parameter :MT is not the name of an available parameter |#\n",
      "#|Warning: Chunk-type SYMBOL has the same specification as the chunk-type CHUNK. |#\n",
      "#|Warning: Invalid chunk definition: (0 ISA CHARACTER EXTERNAL \"0\") chunk name is not a valid symbol. |#\n",
      "#|Warning: Invalid chunk definition: (1 ISA CHARACTER EXTERNAL \"1\") chunk name is not a valid symbol. |#\n",
      "#|Warning: Invalid chunk definition: (2 ISA CHARACTER EXTERNAL \"2\") chunk name is not a valid symbol. |#\n",
      "#|Warning: Invalid chunk definition: (3 ISA CHARACTER EXTERNAL \"3\") chunk name is not a valid symbol. |#\n",
      "#|Warning: Invalid chunk definition: (4 ISA CHARACTER EXTERNAL \"4\") chunk name is not a valid symbol. |#\n",
      "#|Warning: Invalid chunk definition: (5 ISA CHARACTER EXTERNAL \"5\") chunk name is not a valid symbol. |#\n",
      "#|Warning: Invalid chunk definition: (6 ISA CHARACTER EXTERNAL \"6\") chunk name is not a valid symbol. |#\n",
      "#|Warning: Invalid chunk definition: (7 ISA CHARACTER EXTERNAL \"7\") chunk name is not a valid symbol. |#\n",
      "#|Warning: Invalid chunk definition: (8 ISA CHARACTER EXTERNAL \"8\") chunk name is not a valid symbol. |#\n",
      "#|Warning: Invalid chunk definition: (9 ISA CHARACTER EXTERNAL \"9\") chunk name is not a valid symbol. |#\n",
      "#|Warning: Creating chunk DUMMY with no slots |#\n",
      "#|Warning: No production defined for (READ-ALOUD =GOAL> ISA ARTICULATE VISION =CHAR STATUS NIL =CHAR> ISA CHARACTER EXTERNAL =STRING ==> !OUTPUT! (\"Saying ~A\" =STRING) =GOAL> STATUS DONE). |#\n",
      "#|Warning: Invalid syntax in (=GOAL> ISA ARTICULATE VISION =CHAR STATUS NIL =CHAR> ISA CHARACTER EXTERNAL =STRING) condition. |#\n",
      "#|Warning: Invalid specs in call to define-chunk-spec - not enough arguments |#\n",
      "#|Warning: --- end of warnings for undefined production READ-ALOUD --- |#\n",
      "#|Warning: Error encountered in model form:\n",
      "(PARAMETERS READ-ALOUD :EFFORT 0.2)\n",
      " |#\n",
      "#|Warning: #<UNBOUND-VARIABLE Unbound variable: READ-ALOUD> |#\n",
      "#|Warning: Model LARRY not defined. |#\n"
     ]
    },
    {
     "data": {
      "text/plain": [
       "True"
      ]
     },
     "execution_count": 9,
     "metadata": {},
     "output_type": "execute_result"
    }
   ],
   "source": [
    "curr_dir = os.path.dirname(os.path.realpath('Oakhill.lisp'))\n",
    "actr.load_act_r_model(os.path.join(curr_dir, \"Oakhill.lisp\"))"
   ]
  },
  {
   "cell_type": "code",
   "execution_count": 4,
   "id": "6e66502d-6ebf-4854-8279-3aa6ccf569b6",
   "metadata": {},
   "outputs": [
    {
     "data": {
      "text/plain": [
       "['A', 'B', 'C', 'D']"
      ]
     },
     "execution_count": 4,
     "metadata": {},
     "output_type": "execute_result"
    }
   ],
   "source": [
    "## Lets create some stimuli\n",
    "\n",
    "stims =  ['A', 'B', 'C', 'D']\n",
    "stims"
   ]
  },
  {
   "cell_type": "code",
   "execution_count": 10,
   "id": "2247c913-7d1e-4926-8c29-2aaf2ddab1ef",
   "metadata": {},
   "outputs": [
    {
     "name": "stdout",
     "output_type": "stream",
     "text": [
      "#|Warning: define-chunks called with no current model. |#\n",
      "#|Warning: define-chunks called with no current model. |#\n",
      "#|Warning: define-chunks called with no current model. |#\n",
      "#|Warning: define-chunks called with no current model. |#\n",
      "#|## ACT-R has been Reset ##|#\n",
      "#|Warning: Parameter :ERA is not the name of an available parameter |#\n",
      "#|Warning: Parameter :SL is not the name of an available parameter |#\n",
      "#|Warning: Parameter :AN is not the name of an available parameter |#\n",
      "#|Warning: Parameter :PM is not the name of an available parameter |#\n",
      "#|Warning: Parameter :DMT is not the name of an available parameter |#\n",
      "#|Warning: Parameter :MT is not the name of an available parameter |#\n",
      "#|Warning: Chunk-type SYMBOL has the same specification as the chunk-type CHUNK. |#\n",
      "#|Warning: Invalid chunk definition: (0 ISA CHARACTER EXTERNAL \"0\") chunk name is not a valid symbol. |#\n",
      "#|Warning: Invalid chunk definition: (1 ISA CHARACTER EXTERNAL \"1\") chunk name is not a valid symbol. |#\n",
      "#|Warning: Invalid chunk definition: (2 ISA CHARACTER EXTERNAL \"2\") chunk name is not a valid symbol. |#\n",
      "#|Warning: Invalid chunk definition: (3 ISA CHARACTER EXTERNAL \"3\") chunk name is not a valid symbol. |#\n",
      "#|Warning: Invalid chunk definition: (4 ISA CHARACTER EXTERNAL \"4\") chunk name is not a valid symbol. |#\n",
      "#|Warning: Invalid chunk definition: (5 ISA CHARACTER EXTERNAL \"5\") chunk name is not a valid symbol. |#\n",
      "#|Warning: Invalid chunk definition: (6 ISA CHARACTER EXTERNAL \"6\") chunk name is not a valid symbol. |#\n",
      "#|Warning: Invalid chunk definition: (7 ISA CHARACTER EXTERNAL \"7\") chunk name is not a valid symbol. |#\n",
      "#|Warning: Invalid chunk definition: (8 ISA CHARACTER EXTERNAL \"8\") chunk name is not a valid symbol. |#\n",
      "#|Warning: Invalid chunk definition: (9 ISA CHARACTER EXTERNAL \"9\") chunk name is not a valid symbol. |#\n",
      "#|Warning: Creating chunk DUMMY with no slots |#\n",
      "#|Warning: No production defined for (READ-ALOUD =GOAL> ISA ARTICULATE VISION =CHAR STATUS NIL =CHAR> ISA CHARACTER EXTERNAL =STRING ==> !OUTPUT! (\"Saying ~A\" =STRING) =GOAL> STATUS DONE). |#\n",
      "#|Warning: Invalid syntax in (=GOAL> ISA ARTICULATE VISION =CHAR STATUS NIL =CHAR> ISA CHARACTER EXTERNAL =STRING) condition. |#\n",
      "#|Warning: Invalid specs in call to define-chunk-spec - not enough arguments |#\n",
      "#|Warning: --- end of warnings for undefined production READ-ALOUD --- |#\n",
      "#|Warning: Error encountered in model form:\n",
      "(PARAMETERS READ-ALOUD :EFFORT 0.2)\n",
      " |#\n",
      "#|Warning: #<UNBOUND-VARIABLE Unbound variable: READ-ALOUD> |#\n",
      "#|Warning: Model LARRY not defined. |#\n"
     ]
    }
   ],
   "source": [
    "## write function to  display stimuli\n",
    "\n",
    "for i in stims:\n",
    "    chunks = actr.define_chunks(['isa', 'character', 'external', i])\n",
    "   # actr.set_buffer_chunk('visual', chunks[0])\n",
    "    chunks\n"
   ]
  }
 ],
 "metadata": {
  "kernelspec": {
   "display_name": "Python 3",
   "language": "python",
   "name": "python3"
  },
  "language_info": {
   "codemirror_mode": {
    "name": "ipython",
    "version": 3
   },
   "file_extension": ".py",
   "mimetype": "text/x-python",
   "name": "python",
   "nbconvert_exporter": "python",
   "pygments_lexer": "ipython3",
   "version": "3.9.7"
  }
 },
 "nbformat": 4,
 "nbformat_minor": 5
}
